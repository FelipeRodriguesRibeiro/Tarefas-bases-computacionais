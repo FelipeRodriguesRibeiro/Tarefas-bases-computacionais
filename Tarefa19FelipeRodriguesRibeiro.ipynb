{
  "nbformat": 4,
  "nbformat_minor": 0,
  "metadata": {
    "colab": {
      "provenance": []
    },
    "kernelspec": {
      "name": "python3",
      "display_name": "Python 3"
    },
    "language_info": {
      "name": "python"
    }
  },
  "cells": [
    {
      "cell_type": "code",
      "execution_count": 1,
      "metadata": {
        "id": "vnwdYmABj6KI"
      },
      "outputs": [],
      "source": [
        "import numpy as np"
      ]
    },
    {
      "cell_type": "code",
      "source": [
        "rng = np.random.default_rng()\n"
      ],
      "metadata": {
        "id": "-UgZRbAMriKf"
      },
      "execution_count": 3,
      "outputs": []
    },
    {
      "cell_type": "code",
      "source": [
        "N=10000\n",
        "NC = 0\n",
        "\n",
        "for i in range (10000):\n",
        " x = rng.uniform(size = 1)\n",
        " y =rng.uniform(size = 1)\n",
        " d = np.sqrt((x - 0.5)**2 + (y-0.5)**2)\n",
        " if d < 0.5:\n",
        "  NC = NC + 1\n",
        "\n",
        "pi = 4*(NC/N)\n",
        "\n",
        "print(pi)"
      ],
      "metadata": {
        "colab": {
          "base_uri": "https://localhost:8080/"
        },
        "id": "oul7adj4rrME",
        "outputId": "4b5ba203-8c6f-4140-a3f1-6233709150ca"
      },
      "execution_count": 58,
      "outputs": [
        {
          "output_type": "stream",
          "name": "stdout",
          "text": [
            "3.1272\n"
          ]
        }
      ]
    }
  ]
}