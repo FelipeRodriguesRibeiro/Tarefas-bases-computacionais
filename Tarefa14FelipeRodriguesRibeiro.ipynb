{
  "nbformat": 4,
  "nbformat_minor": 0,
  "metadata": {
    "colab": {
      "provenance": []
    },
    "kernelspec": {
      "name": "python3",
      "display_name": "Python 3"
    },
    "language_info": {
      "name": "python"
    }
  },
  "cells": [
    {
      "cell_type": "code",
      "execution_count": 1,
      "metadata": {
        "id": "xvq3cwD_2J_t"
      },
      "outputs": [],
      "source": [
        "import matplotlib.pyplot as plt\n",
        "import pandas as pd\n",
        "import numpy as np"
      ]
    },
    {
      "cell_type": "markdown",
      "source": [
        "Questão 01"
      ],
      "metadata": {
        "id": "iVVt6W1c1e7r"
      }
    },
    {
      "cell_type": "code",
      "source": [
        "x = pd.read_csv('https://raw.githubusercontent.com/FelipeRodriguesRibeiro/BasesComputacionais/fc527a25467b4342a66c75266964e5dbc4f8cfb7/aula7/dados/balance.csv')\n",
        "x"
      ],
      "metadata": {
        "colab": {
          "base_uri": "https://localhost:8080/",
          "height": 424
        },
        "id": "hCsYJMqa3CjM",
        "outputId": "55a42b1b-1117-41a5-94b7-fcb8aa47740d"
      },
      "execution_count": 2,
      "outputs": [
        {
          "output_type": "execute_result",
          "data": {
            "text/plain": [
              "      Time[s]     Fx[N]     Fy[N]       Fz[N]    Mx[Nm]     My[Nm]    Mz[Nm]  \\\n",
              "0        0.01 -1.919034 -4.571088  535.434951  3.162207  39.573486 -0.730428   \n",
              "1        0.02 -1.879878 -4.460744  535.388657  3.188683  39.489794 -0.736319   \n",
              "2        0.03 -1.826901 -4.361212  535.357865  3.216085  39.405791 -0.742518   \n",
              "3        0.04 -1.751454 -4.280243  535.344141  3.244572  39.321156 -0.749198   \n",
              "4        0.05 -1.653044 -4.221079  535.333173  3.273691  39.235670 -0.756347   \n",
              "...       ...       ...       ...         ...       ...        ...       ...   \n",
              "5995    59.96 -1.686699 -4.448812  535.606790  1.560903  40.358188 -0.761125   \n",
              "5996    59.97 -1.708597 -4.460978  535.688024  1.571501  40.322492 -0.759395   \n",
              "5997    59.98 -1.721913 -4.473796  535.776049  1.593658  40.284017 -0.760723   \n",
              "5998    59.99 -1.728616 -4.485147  535.871916  1.625330  40.243219 -0.764808   \n",
              "5999    60.00 -1.731940 -4.494739  535.973441  1.662295  40.201142 -0.770525   \n",
              "\n",
              "      COPx[cm]  COPy[cm]  \n",
              "0    -7.390905  0.590587  \n",
              "1    -7.375912  0.595583  \n",
              "2    -7.360645  0.600736  \n",
              "3    -7.345024  0.606072  \n",
              "4    -7.329206  0.611524  \n",
              "...        ...       ...  \n",
              "5995 -7.535040  0.291427  \n",
              "5996 -7.527234  0.293361  \n",
              "5997 -7.518816  0.297449  \n",
              "5998 -7.509858  0.303306  \n",
              "5999 -7.500585  0.310145  \n",
              "\n",
              "[6000 rows x 9 columns]"
            ],
            "text/html": [
              "\n",
              "  <div id=\"df-cb61b7eb-5f05-4cb7-840e-a090b02801c7\">\n",
              "    <div class=\"colab-df-container\">\n",
              "      <div>\n",
              "<style scoped>\n",
              "    .dataframe tbody tr th:only-of-type {\n",
              "        vertical-align: middle;\n",
              "    }\n",
              "\n",
              "    .dataframe tbody tr th {\n",
              "        vertical-align: top;\n",
              "    }\n",
              "\n",
              "    .dataframe thead th {\n",
              "        text-align: right;\n",
              "    }\n",
              "</style>\n",
              "<table border=\"1\" class=\"dataframe\">\n",
              "  <thead>\n",
              "    <tr style=\"text-align: right;\">\n",
              "      <th></th>\n",
              "      <th>Time[s]</th>\n",
              "      <th>Fx[N]</th>\n",
              "      <th>Fy[N]</th>\n",
              "      <th>Fz[N]</th>\n",
              "      <th>Mx[Nm]</th>\n",
              "      <th>My[Nm]</th>\n",
              "      <th>Mz[Nm]</th>\n",
              "      <th>COPx[cm]</th>\n",
              "      <th>COPy[cm]</th>\n",
              "    </tr>\n",
              "  </thead>\n",
              "  <tbody>\n",
              "    <tr>\n",
              "      <th>0</th>\n",
              "      <td>0.01</td>\n",
              "      <td>-1.919034</td>\n",
              "      <td>-4.571088</td>\n",
              "      <td>535.434951</td>\n",
              "      <td>3.162207</td>\n",
              "      <td>39.573486</td>\n",
              "      <td>-0.730428</td>\n",
              "      <td>-7.390905</td>\n",
              "      <td>0.590587</td>\n",
              "    </tr>\n",
              "    <tr>\n",
              "      <th>1</th>\n",
              "      <td>0.02</td>\n",
              "      <td>-1.879878</td>\n",
              "      <td>-4.460744</td>\n",
              "      <td>535.388657</td>\n",
              "      <td>3.188683</td>\n",
              "      <td>39.489794</td>\n",
              "      <td>-0.736319</td>\n",
              "      <td>-7.375912</td>\n",
              "      <td>0.595583</td>\n",
              "    </tr>\n",
              "    <tr>\n",
              "      <th>2</th>\n",
              "      <td>0.03</td>\n",
              "      <td>-1.826901</td>\n",
              "      <td>-4.361212</td>\n",
              "      <td>535.357865</td>\n",
              "      <td>3.216085</td>\n",
              "      <td>39.405791</td>\n",
              "      <td>-0.742518</td>\n",
              "      <td>-7.360645</td>\n",
              "      <td>0.600736</td>\n",
              "    </tr>\n",
              "    <tr>\n",
              "      <th>3</th>\n",
              "      <td>0.04</td>\n",
              "      <td>-1.751454</td>\n",
              "      <td>-4.280243</td>\n",
              "      <td>535.344141</td>\n",
              "      <td>3.244572</td>\n",
              "      <td>39.321156</td>\n",
              "      <td>-0.749198</td>\n",
              "      <td>-7.345024</td>\n",
              "      <td>0.606072</td>\n",
              "    </tr>\n",
              "    <tr>\n",
              "      <th>4</th>\n",
              "      <td>0.05</td>\n",
              "      <td>-1.653044</td>\n",
              "      <td>-4.221079</td>\n",
              "      <td>535.333173</td>\n",
              "      <td>3.273691</td>\n",
              "      <td>39.235670</td>\n",
              "      <td>-0.756347</td>\n",
              "      <td>-7.329206</td>\n",
              "      <td>0.611524</td>\n",
              "    </tr>\n",
              "    <tr>\n",
              "      <th>...</th>\n",
              "      <td>...</td>\n",
              "      <td>...</td>\n",
              "      <td>...</td>\n",
              "      <td>...</td>\n",
              "      <td>...</td>\n",
              "      <td>...</td>\n",
              "      <td>...</td>\n",
              "      <td>...</td>\n",
              "      <td>...</td>\n",
              "    </tr>\n",
              "    <tr>\n",
              "      <th>5995</th>\n",
              "      <td>59.96</td>\n",
              "      <td>-1.686699</td>\n",
              "      <td>-4.448812</td>\n",
              "      <td>535.606790</td>\n",
              "      <td>1.560903</td>\n",
              "      <td>40.358188</td>\n",
              "      <td>-0.761125</td>\n",
              "      <td>-7.535040</td>\n",
              "      <td>0.291427</td>\n",
              "    </tr>\n",
              "    <tr>\n",
              "      <th>5996</th>\n",
              "      <td>59.97</td>\n",
              "      <td>-1.708597</td>\n",
              "      <td>-4.460978</td>\n",
              "      <td>535.688024</td>\n",
              "      <td>1.571501</td>\n",
              "      <td>40.322492</td>\n",
              "      <td>-0.759395</td>\n",
              "      <td>-7.527234</td>\n",
              "      <td>0.293361</td>\n",
              "    </tr>\n",
              "    <tr>\n",
              "      <th>5997</th>\n",
              "      <td>59.98</td>\n",
              "      <td>-1.721913</td>\n",
              "      <td>-4.473796</td>\n",
              "      <td>535.776049</td>\n",
              "      <td>1.593658</td>\n",
              "      <td>40.284017</td>\n",
              "      <td>-0.760723</td>\n",
              "      <td>-7.518816</td>\n",
              "      <td>0.297449</td>\n",
              "    </tr>\n",
              "    <tr>\n",
              "      <th>5998</th>\n",
              "      <td>59.99</td>\n",
              "      <td>-1.728616</td>\n",
              "      <td>-4.485147</td>\n",
              "      <td>535.871916</td>\n",
              "      <td>1.625330</td>\n",
              "      <td>40.243219</td>\n",
              "      <td>-0.764808</td>\n",
              "      <td>-7.509858</td>\n",
              "      <td>0.303306</td>\n",
              "    </tr>\n",
              "    <tr>\n",
              "      <th>5999</th>\n",
              "      <td>60.00</td>\n",
              "      <td>-1.731940</td>\n",
              "      <td>-4.494739</td>\n",
              "      <td>535.973441</td>\n",
              "      <td>1.662295</td>\n",
              "      <td>40.201142</td>\n",
              "      <td>-0.770525</td>\n",
              "      <td>-7.500585</td>\n",
              "      <td>0.310145</td>\n",
              "    </tr>\n",
              "  </tbody>\n",
              "</table>\n",
              "<p>6000 rows × 9 columns</p>\n",
              "</div>\n",
              "      <button class=\"colab-df-convert\" onclick=\"convertToInteractive('df-cb61b7eb-5f05-4cb7-840e-a090b02801c7')\"\n",
              "              title=\"Convert this dataframe to an interactive table.\"\n",
              "              style=\"display:none;\">\n",
              "        \n",
              "  <svg xmlns=\"http://www.w3.org/2000/svg\" height=\"24px\"viewBox=\"0 0 24 24\"\n",
              "       width=\"24px\">\n",
              "    <path d=\"M0 0h24v24H0V0z\" fill=\"none\"/>\n",
              "    <path d=\"M18.56 5.44l.94 2.06.94-2.06 2.06-.94-2.06-.94-.94-2.06-.94 2.06-2.06.94zm-11 1L8.5 8.5l.94-2.06 2.06-.94-2.06-.94L8.5 2.5l-.94 2.06-2.06.94zm10 10l.94 2.06.94-2.06 2.06-.94-2.06-.94-.94-2.06-.94 2.06-2.06.94z\"/><path d=\"M17.41 7.96l-1.37-1.37c-.4-.4-.92-.59-1.43-.59-.52 0-1.04.2-1.43.59L10.3 9.45l-7.72 7.72c-.78.78-.78 2.05 0 2.83L4 21.41c.39.39.9.59 1.41.59.51 0 1.02-.2 1.41-.59l7.78-7.78 2.81-2.81c.8-.78.8-2.07 0-2.86zM5.41 20L4 18.59l7.72-7.72 1.47 1.35L5.41 20z\"/>\n",
              "  </svg>\n",
              "      </button>\n",
              "      \n",
              "  <style>\n",
              "    .colab-df-container {\n",
              "      display:flex;\n",
              "      flex-wrap:wrap;\n",
              "      gap: 12px;\n",
              "    }\n",
              "\n",
              "    .colab-df-convert {\n",
              "      background-color: #E8F0FE;\n",
              "      border: none;\n",
              "      border-radius: 50%;\n",
              "      cursor: pointer;\n",
              "      display: none;\n",
              "      fill: #1967D2;\n",
              "      height: 32px;\n",
              "      padding: 0 0 0 0;\n",
              "      width: 32px;\n",
              "    }\n",
              "\n",
              "    .colab-df-convert:hover {\n",
              "      background-color: #E2EBFA;\n",
              "      box-shadow: 0px 1px 2px rgba(60, 64, 67, 0.3), 0px 1px 3px 1px rgba(60, 64, 67, 0.15);\n",
              "      fill: #174EA6;\n",
              "    }\n",
              "\n",
              "    [theme=dark] .colab-df-convert {\n",
              "      background-color: #3B4455;\n",
              "      fill: #D2E3FC;\n",
              "    }\n",
              "\n",
              "    [theme=dark] .colab-df-convert:hover {\n",
              "      background-color: #434B5C;\n",
              "      box-shadow: 0px 1px 3px 1px rgba(0, 0, 0, 0.15);\n",
              "      filter: drop-shadow(0px 1px 2px rgba(0, 0, 0, 0.3));\n",
              "      fill: #FFFFFF;\n",
              "    }\n",
              "  </style>\n",
              "\n",
              "      <script>\n",
              "        const buttonEl =\n",
              "          document.querySelector('#df-cb61b7eb-5f05-4cb7-840e-a090b02801c7 button.colab-df-convert');\n",
              "        buttonEl.style.display =\n",
              "          google.colab.kernel.accessAllowed ? 'block' : 'none';\n",
              "\n",
              "        async function convertToInteractive(key) {\n",
              "          const element = document.querySelector('#df-cb61b7eb-5f05-4cb7-840e-a090b02801c7');\n",
              "          const dataTable =\n",
              "            await google.colab.kernel.invokeFunction('convertToInteractive',\n",
              "                                                     [key], {});\n",
              "          if (!dataTable) return;\n",
              "\n",
              "          const docLinkHtml = 'Like what you see? Visit the ' +\n",
              "            '<a target=\"_blank\" href=https://colab.research.google.com/notebooks/data_table.ipynb>data table notebook</a>'\n",
              "            + ' to learn more about interactive tables.';\n",
              "          element.innerHTML = '';\n",
              "          dataTable['output_type'] = 'display_data';\n",
              "          await google.colab.output.renderOutput(dataTable, element);\n",
              "          const docLink = document.createElement('div');\n",
              "          docLink.innerHTML = docLinkHtml;\n",
              "          element.appendChild(docLink);\n",
              "        }\n",
              "      </script>\n",
              "    </div>\n",
              "  </div>\n",
              "  "
            ]
          },
          "metadata": {},
          "execution_count": 2
        }
      ]
    },
    {
      "cell_type": "code",
      "source": [
        "plt.figure()\n",
        "plt.plot(x['Time[s]'],x['My[Nm]'])\n",
        "plt.title('Gráfico do torque na direção y em função do tempo')\n",
        "plt.xlabel('Tempo(s)')\n",
        "plt.ylabel('Direção Y: MY(Nm)')\n",
        "plt.show()\n"
      ],
      "metadata": {
        "colab": {
          "base_uri": "https://localhost:8080/",
          "height": 295
        },
        "id": "y7c6Uebj3vV_",
        "outputId": "22add85d-ebbf-4ad7-85d2-723c7503e1af"
      },
      "execution_count": 34,
      "outputs": [
        {
          "output_type": "display_data",
          "data": {
            "text/plain": [
              "<Figure size 432x288 with 1 Axes>"
            ],
            "image/png": "[encoded data removed]"
          },
          "metadata": {
            "needs_background": "light"
          }
        }
      ]
    },
    {
      "cell_type": "code",
      "source": [
        "x['My[Nm]'].mean()"
      ],
      "metadata": {
        "id": "TZ1Hz6pk4hQl",
        "colab": {
          "base_uri": "https://localhost:8080/"
        },
        "outputId": "de8aaa0c-be7f-45c3-a129-f7078665970d"
      },
      "execution_count": 4,
      "outputs": [
        {
          "output_type": "execute_result",
          "data": {
            "text/plain": [
              "41.12117402366667"
            ]
          },
          "metadata": {},
          "execution_count": 4
        }
      ]
    },
    {
      "cell_type": "code",
      "source": [
        "x['My[Nm]'].std()"
      ],
      "metadata": {
        "colab": {
          "base_uri": "https://localhost:8080/"
        },
        "id": "kaWaCrnt0UZi",
        "outputId": "50e44884-f561-4c9a-c3bf-f5c05c4c01e5"
      },
      "execution_count": 5,
      "outputs": [
        {
          "output_type": "execute_result",
          "data": {
            "text/plain": [
              "1.9778991737555645"
            ]
          },
          "metadata": {},
          "execution_count": 5
        }
      ]
    },
    {
      "cell_type": "markdown",
      "source": [
        "Questão 02"
      ],
      "metadata": {
        "id": "UdVdEhiq1icQ"
      }
    },
    {
      "cell_type": "code",
      "source": [
        "infla = pd.read_csv('https://raw.githubusercontent.com/BMClab/BasesComputacionais/master/dados/inflacaoMensal.csv')\n",
        "infla"
      ],
      "metadata": {
        "colab": {
          "base_uri": "https://localhost:8080/",
          "height": 424
        },
        "id": "avtTNYOY05Jh",
        "outputId": "3bdde8e4-396b-455f-d72d-40e9324018cf"
      },
      "execution_count": 6,
      "outputs": [
        {
          "output_type": "execute_result",
          "data": {
            "text/plain": [
              "      Ano  Mês  Inflação\n",
              "0    1944    2      1.45\n",
              "1    1944    3      1.43\n",
              "2    1944    4      1.41\n",
              "3    1944    5      1.39\n",
              "4    1944    6      1.37\n",
              "..    ...  ...       ...\n",
              "900  2019    2      1.25\n",
              "901  2019    3      1.07\n",
              "902  2019    4      0.90\n",
              "903  2019    5      0.40\n",
              "904  2019    6      0.63\n",
              "\n",
              "[905 rows x 3 columns]"
            ],
            "text/html": [
              "\n",
              "  <div id=\"df-4236154d-08a3-4077-8497-df56357fff08\">\n",
              "    <div class=\"colab-df-container\">\n",
              "      <div>\n",
              "<style scoped>\n",
              "    .dataframe tbody tr th:only-of-type {\n",
              "        vertical-align: middle;\n",
              "    }\n",
              "\n",
              "    .dataframe tbody tr th {\n",
              "        vertical-align: top;\n",
              "    }\n",
              "\n",
              "    .dataframe thead th {\n",
              "        text-align: right;\n",
              "    }\n",
              "</style>\n",
              "<table border=\"1\" class=\"dataframe\">\n",
              "  <thead>\n",
              "    <tr style=\"text-align: right;\">\n",
              "      <th></th>\n",
              "      <th>Ano</th>\n",
              "      <th>Mês</th>\n",
              "      <th>Inflação</th>\n",
              "    </tr>\n",
              "  </thead>\n",
              "  <tbody>\n",
              "    <tr>\n",
              "      <th>0</th>\n",
              "      <td>1944</td>\n",
              "      <td>2</td>\n",
              "      <td>1.45</td>\n",
              "    </tr>\n",
              "    <tr>\n",
              "      <th>1</th>\n",
              "      <td>1944</td>\n",
              "      <td>3</td>\n",
              "      <td>1.43</td>\n",
              "    </tr>\n",
              "    <tr>\n",
              "      <th>2</th>\n",
              "      <td>1944</td>\n",
              "      <td>4</td>\n",
              "      <td>1.41</td>\n",
              "    </tr>\n",
              "    <tr>\n",
              "      <th>3</th>\n",
              "      <td>1944</td>\n",
              "      <td>5</td>\n",
              "      <td>1.39</td>\n",
              "    </tr>\n",
              "    <tr>\n",
              "      <th>4</th>\n",
              "      <td>1944</td>\n",
              "      <td>6</td>\n",
              "      <td>1.37</td>\n",
              "    </tr>\n",
              "    <tr>\n",
              "      <th>...</th>\n",
              "      <td>...</td>\n",
              "      <td>...</td>\n",
              "      <td>...</td>\n",
              "    </tr>\n",
              "    <tr>\n",
              "      <th>900</th>\n",
              "      <td>2019</td>\n",
              "      <td>2</td>\n",
              "      <td>1.25</td>\n",
              "    </tr>\n",
              "    <tr>\n",
              "      <th>901</th>\n",
              "      <td>2019</td>\n",
              "      <td>3</td>\n",
              "      <td>1.07</td>\n",
              "    </tr>\n",
              "    <tr>\n",
              "      <th>902</th>\n",
              "      <td>2019</td>\n",
              "      <td>4</td>\n",
              "      <td>0.90</td>\n",
              "    </tr>\n",
              "    <tr>\n",
              "      <th>903</th>\n",
              "      <td>2019</td>\n",
              "      <td>5</td>\n",
              "      <td>0.40</td>\n",
              "    </tr>\n",
              "    <tr>\n",
              "      <th>904</th>\n",
              "      <td>2019</td>\n",
              "      <td>6</td>\n",
              "      <td>0.63</td>\n",
              "    </tr>\n",
              "  </tbody>\n",
              "</table>\n",
              "<p>905 rows × 3 columns</p>\n",
              "</div>\n",
              "      <button class=\"colab-df-convert\" onclick=\"convertToInteractive('df-4236154d-08a3-4077-8497-df56357fff08')\"\n",
              "              title=\"Convert this dataframe to an interactive table.\"\n",
              "              style=\"display:none;\">\n",
              "        \n",
              "  <svg xmlns=\"http://www.w3.org/2000/svg\" height=\"24px\"viewBox=\"0 0 24 24\"\n",
              "       width=\"24px\">\n",
              "    <path d=\"M0 0h24v24H0V0z\" fill=\"none\"/>\n",
              "    <path d=\"M18.56 5.44l.94 2.06.94-2.06 2.06-.94-2.06-.94-.94-2.06-.94 2.06-2.06.94zm-11 1L8.5 8.5l.94-2.06 2.06-.94-2.06-.94L8.5 2.5l-.94 2.06-2.06.94zm10 10l.94 2.06.94-2.06 2.06-.94-2.06-.94-.94-2.06-.94 2.06-2.06.94z\"/><path d=\"M17.41 7.96l-1.37-1.37c-.4-.4-.92-.59-1.43-.59-.52 0-1.04.2-1.43.59L10.3 9.45l-7.72 7.72c-.78.78-.78 2.05 0 2.83L4 21.41c.39.39.9.59 1.41.59.51 0 1.02-.2 1.41-.59l7.78-7.78 2.81-2.81c.8-.78.8-2.07 0-2.86zM5.41 20L4 18.59l7.72-7.72 1.47 1.35L5.41 20z\"/>\n",
              "  </svg>\n",
              "      </button>\n",
              "      \n",
              "  <style>\n",
              "    .colab-df-container {\n",
              "      display:flex;\n",
              "      flex-wrap:wrap;\n",
              "      gap: 12px;\n",
              "    }\n",
              "\n",
              "    .colab-df-convert {\n",
              "      background-color: #E8F0FE;\n",
              "      border: none;\n",
              "      border-radius: 50%;\n",
              "      cursor: pointer;\n",
              "      display: none;\n",
              "      fill: #1967D2;\n",
              "      height: 32px;\n",
              "      padding: 0 0 0 0;\n",
              "      width: 32px;\n",
              "    }\n",
              "\n",
              "    .colab-df-convert:hover {\n",
              "      background-color: #E2EBFA;\n",
              "      box-shadow: 0px 1px 2px rgba(60, 64, 67, 0.3), 0px 1px 3px 1px rgba(60, 64, 67, 0.15);\n",
              "      fill: #174EA6;\n",
              "    }\n",
              "\n",
              "    [theme=dark] .colab-df-convert {\n",
              "      background-color: #3B4455;\n",
              "      fill: #D2E3FC;\n",
              "    }\n",
              "\n",
              "    [theme=dark] .colab-df-convert:hover {\n",
              "      background-color: #434B5C;\n",
              "      box-shadow: 0px 1px 3px 1px rgba(0, 0, 0, 0.15);\n",
              "      filter: drop-shadow(0px 1px 2px rgba(0, 0, 0, 0.3));\n",
              "      fill: #FFFFFF;\n",
              "    }\n",
              "  </style>\n",
              "\n",
              "      <script>\n",
              "        const buttonEl =\n",
              "          document.querySelector('#df-4236154d-08a3-4077-8497-df56357fff08 button.colab-df-convert');\n",
              "        buttonEl.style.display =\n",
              "          google.colab.kernel.accessAllowed ? 'block' : 'none';\n",
              "\n",
              "        async function convertToInteractive(key) {\n",
              "          const element = document.querySelector('#df-4236154d-08a3-4077-8497-df56357fff08');\n",
              "          const dataTable =\n",
              "            await google.colab.kernel.invokeFunction('convertToInteractive',\n",
              "                                                     [key], {});\n",
              "          if (!dataTable) return;\n",
              "\n",
              "          const docLinkHtml = 'Like what you see? Visit the ' +\n",
              "            '<a target=\"_blank\" href=https://colab.research.google.com/notebooks/data_table.ipynb>data table notebook</a>'\n",
              "            + ' to learn more about interactive tables.';\n",
              "          element.innerHTML = '';\n",
              "          dataTable['output_type'] = 'display_data';\n",
              "          await google.colab.output.renderOutput(dataTable, element);\n",
              "          const docLink = document.createElement('div');\n",
              "          docLink.innerHTML = docLinkHtml;\n",
              "          element.appendChild(docLink);\n",
              "        }\n",
              "      </script>\n",
              "    </div>\n",
              "  </div>\n",
              "  "
            ]
          },
          "metadata": {},
          "execution_count": 6
        }
      ]
    },
    {
      "cell_type": "code",
      "source": [
        "mediana = infla.query('Mês == 3')['Inflação'].median()\n",
        "mediana"
      ],
      "metadata": {
        "colab": {
          "base_uri": "https://localhost:8080/"
        },
        "id": "uGP4I_VU1wWt",
        "outputId": "ac5db5c6-d91a-4b51-a673-ac23dcc58f2a"
      },
      "execution_count": 7,
      "outputs": [
        {
          "output_type": "execute_result",
          "data": {
            "text/plain": [
              "1.565"
            ]
          },
          "metadata": {},
          "execution_count": 7
        }
      ]
    },
    {
      "cell_type": "code",
      "source": [
        "média = infla.query('Mês == 3')['Inflação'].mean()\n",
        "média\n"
      ],
      "metadata": {
        "colab": {
          "base_uri": "https://localhost:8080/"
        },
        "id": "wjbvwYB2ljdc",
        "outputId": "e139d7ae-be04-4926-906b-4be9d2583913"
      },
      "execution_count": 8,
      "outputs": [
        {
          "output_type": "execute_result",
          "data": {
            "text/plain": [
              "4.852631578947369"
            ]
          },
          "metadata": {},
          "execution_count": 8
        }
      ]
    },
    {
      "cell_type": "code",
      "source": [
        "desviopadrão = infla.query('Mês ==3')['Inflação'].std()\n",
        "desviopadrão"
      ],
      "metadata": {
        "colab": {
          "base_uri": "https://localhost:8080/"
        },
        "id": "1S96BG98_m2d",
        "outputId": "127ebba2-830e-49b4-c7fe-cbec2c83dfcb"
      },
      "execution_count": 9,
      "outputs": [
        {
          "output_type": "execute_result",
          "data": {
            "text/plain": [
              "11.263066884695428"
            ]
          },
          "metadata": {},
          "execution_count": 9
        }
      ]
    },
    {
      "cell_type": "code",
      "source": [
        "histograma = infla.query('Mês == 3')['Inflação'].hist()"
      ],
      "metadata": {
        "colab": {
          "base_uri": "https://localhost:8080/",
          "height": 265
        },
        "id": "HW-RmKupAfy8",
        "outputId": "24a7e87b-f97c-4768-8112-d91b4012219b"
      },
      "execution_count": 10,
      "outputs": [
        {
          "output_type": "display_data",
          "data": {
            "text/plain": [
              "<Figure size 432x288 with 1 Axes>"
            ],
            "image/png": "[encoded data removed]"
          },
          "metadata": {
            "needs_background": "light"
          }
        }
      ]
    },
    {
      "cell_type": "markdown",
      "source": [
        "Questão 3"
      ],
      "metadata": {
        "id": "gVv5dXYAnGkH"
      }
    },
    {
      "cell_type": "code",
      "source": [
        "infla = pd.read_csv('https://raw.githubusercontent.com/BMClab/BasesComputacionais/master/dados/inflacaoMensal.csv')\n",
        "infla"
      ],
      "metadata": {
        "colab": {
          "base_uri": "https://localhost:8080/",
          "height": 424
        },
        "id": "aufTJTvunI8T",
        "outputId": "d69fac97-eaab-41be-98f3-5d2a64c2e451"
      },
      "execution_count": 11,
      "outputs": [
        {
          "output_type": "execute_result",
          "data": {
            "text/plain": [
              "      Ano  Mês  Inflação\n",
              "0    1944    2      1.45\n",
              "1    1944    3      1.43\n",
              "2    1944    4      1.41\n",
              "3    1944    5      1.39\n",
              "4    1944    6      1.37\n",
              "..    ...  ...       ...\n",
              "900  2019    2      1.25\n",
              "901  2019    3      1.07\n",
              "902  2019    4      0.90\n",
              "903  2019    5      0.40\n",
              "904  2019    6      0.63\n",
              "\n",
              "[905 rows x 3 columns]"
            ],
            "text/html": [
              "\n",
              "  <div id=\"df-2bbf4749-2a20-47cb-9340-90ff9be59fa6\">\n",
              "    <div class=\"colab-df-container\">\n",
              "      <div>\n",
              "<style scoped>\n",
              "    .dataframe tbody tr th:only-of-type {\n",
              "        vertical-align: middle;\n",
              "    }\n",
              "\n",
              "    .dataframe tbody tr th {\n",
              "        vertical-align: top;\n",
              "    }\n",
              "\n",
              "    .dataframe thead th {\n",
              "        text-align: right;\n",
              "    }\n",
              "</style>\n",
              "<table border=\"1\" class=\"dataframe\">\n",
              "  <thead>\n",
              "    <tr style=\"text-align: right;\">\n",
              "      <th></th>\n",
              "      <th>Ano</th>\n",
              "      <th>Mês</th>\n",
              "      <th>Inflação</th>\n",
              "    </tr>\n",
              "  </thead>\n",
              "  <tbody>\n",
              "    <tr>\n",
              "      <th>0</th>\n",
              "      <td>1944</td>\n",
              "      <td>2</td>\n",
              "      <td>1.45</td>\n",
              "    </tr>\n",
              "    <tr>\n",
              "      <th>1</th>\n",
              "      <td>1944</td>\n",
              "      <td>3</td>\n",
              "      <td>1.43</td>\n",
              "    </tr>\n",
              "    <tr>\n",
              "      <th>2</th>\n",
              "      <td>1944</td>\n",
              "      <td>4</td>\n",
              "      <td>1.41</td>\n",
              "    </tr>\n",
              "    <tr>\n",
              "      <th>3</th>\n",
              "      <td>1944</td>\n",
              "      <td>5</td>\n",
              "      <td>1.39</td>\n",
              "    </tr>\n",
              "    <tr>\n",
              "      <th>4</th>\n",
              "      <td>1944</td>\n",
              "      <td>6</td>\n",
              "      <td>1.37</td>\n",
              "    </tr>\n",
              "    <tr>\n",
              "      <th>...</th>\n",
              "      <td>...</td>\n",
              "      <td>...</td>\n",
              "      <td>...</td>\n",
              "    </tr>\n",
              "    <tr>\n",
              "      <th>900</th>\n",
              "      <td>2019</td>\n",
              "      <td>2</td>\n",
              "      <td>1.25</td>\n",
              "    </tr>\n",
              "    <tr>\n",
              "      <th>901</th>\n",
              "      <td>2019</td>\n",
              "      <td>3</td>\n",
              "      <td>1.07</td>\n",
              "    </tr>\n",
              "    <tr>\n",
              "      <th>902</th>\n",
              "      <td>2019</td>\n",
              "      <td>4</td>\n",
              "      <td>0.90</td>\n",
              "    </tr>\n",
              "    <tr>\n",
              "      <th>903</th>\n",
              "      <td>2019</td>\n",
              "      <td>5</td>\n",
              "      <td>0.40</td>\n",
              "    </tr>\n",
              "    <tr>\n",
              "      <th>904</th>\n",
              "      <td>2019</td>\n",
              "      <td>6</td>\n",
              "      <td>0.63</td>\n",
              "    </tr>\n",
              "  </tbody>\n",
              "</table>\n",
              "<p>905 rows × 3 columns</p>\n",
              "</div>\n",
              "      <button class=\"colab-df-convert\" onclick=\"convertToInteractive('df-2bbf4749-2a20-47cb-9340-90ff9be59fa6')\"\n",
              "              title=\"Convert this dataframe to an interactive table.\"\n",
              "              style=\"display:none;\">\n",
              "        \n",
              "  <svg xmlns=\"http://www.w3.org/2000/svg\" height=\"24px\"viewBox=\"0 0 24 24\"\n",
              "       width=\"24px\">\n",
              "    <path d=\"M0 0h24v24H0V0z\" fill=\"none\"/>\n",
              "    <path d=\"M18.56 5.44l.94 2.06.94-2.06 2.06-.94-2.06-.94-.94-2.06-.94 2.06-2.06.94zm-11 1L8.5 8.5l.94-2.06 2.06-.94-2.06-.94L8.5 2.5l-.94 2.06-2.06.94zm10 10l.94 2.06.94-2.06 2.06-.94-2.06-.94-.94-2.06-.94 2.06-2.06.94z\"/><path d=\"M17.41 7.96l-1.37-1.37c-.4-.4-.92-.59-1.43-.59-.52 0-1.04.2-1.43.59L10.3 9.45l-7.72 7.72c-.78.78-.78 2.05 0 2.83L4 21.41c.39.39.9.59 1.41.59.51 0 1.02-.2 1.41-.59l7.78-7.78 2.81-2.81c.8-.78.8-2.07 0-2.86zM5.41 20L4 18.59l7.72-7.72 1.47 1.35L5.41 20z\"/>\n",
              "  </svg>\n",
              "      </button>\n",
              "      \n",
              "  <style>\n",
              "    .colab-df-container {\n",
              "      display:flex;\n",
              "      flex-wrap:wrap;\n",
              "      gap: 12px;\n",
              "    }\n",
              "\n",
              "    .colab-df-convert {\n",
              "      background-color: #E8F0FE;\n",
              "      border: none;\n",
              "      border-radius: 50%;\n",
              "      cursor: pointer;\n",
              "      display: none;\n",
              "      fill: #1967D2;\n",
              "      height: 32px;\n",
              "      padding: 0 0 0 0;\n",
              "      width: 32px;\n",
              "    }\n",
              "\n",
              "    .colab-df-convert:hover {\n",
              "      background-color: #E2EBFA;\n",
              "      box-shadow: 0px 1px 2px rgba(60, 64, 67, 0.3), 0px 1px 3px 1px rgba(60, 64, 67, 0.15);\n",
              "      fill: #174EA6;\n",
              "    }\n",
              "\n",
              "    [theme=dark] .colab-df-convert {\n",
              "      background-color: #3B4455;\n",
              "      fill: #D2E3FC;\n",
              "    }\n",
              "\n",
              "    [theme=dark] .colab-df-convert:hover {\n",
              "      background-color: #434B5C;\n",
              "      box-shadow: 0px 1px 3px 1px rgba(0, 0, 0, 0.15);\n",
              "      filter: drop-shadow(0px 1px 2px rgba(0, 0, 0, 0.3));\n",
              "      fill: #FFFFFF;\n",
              "    }\n",
              "  </style>\n",
              "\n",
              "      <script>\n",
              "        const buttonEl =\n",
              "          document.querySelector('#df-2bbf4749-2a20-47cb-9340-90ff9be59fa6 button.colab-df-convert');\n",
              "        buttonEl.style.display =\n",
              "          google.colab.kernel.accessAllowed ? 'block' : 'none';\n",
              "\n",
              "        async function convertToInteractive(key) {\n",
              "          const element = document.querySelector('#df-2bbf4749-2a20-47cb-9340-90ff9be59fa6');\n",
              "          const dataTable =\n",
              "            await google.colab.kernel.invokeFunction('convertToInteractive',\n",
              "                                                     [key], {});\n",
              "          if (!dataTable) return;\n",
              "\n",
              "          const docLinkHtml = 'Like what you see? Visit the ' +\n",
              "            '<a target=\"_blank\" href=https://colab.research.google.com/notebooks/data_table.ipynb>data table notebook</a>'\n",
              "            + ' to learn more about interactive tables.';\n",
              "          element.innerHTML = '';\n",
              "          dataTable['output_type'] = 'display_data';\n",
              "          await google.colab.output.renderOutput(dataTable, element);\n",
              "          const docLink = document.createElement('div');\n",
              "          docLink.innerHTML = docLinkHtml;\n",
              "          element.appendChild(docLink);\n",
              "        }\n",
              "      </script>\n",
              "    </div>\n",
              "  </div>\n",
              "  "
            ]
          },
          "metadata": {},
          "execution_count": 11
        }
      ]
    },
    {
      "cell_type": "code",
      "source": [
        "mediana = infla.query('Mês == 3 and Ano >= 1995')['Inflação'].median()\n",
        "mediana"
      ],
      "metadata": {
        "id": "nLwkMYmGAnCa",
        "colab": {
          "base_uri": "https://localhost:8080/"
        },
        "outputId": "377426a7-d563-4c48-c93b-3ecbb1d8c7f9"
      },
      "execution_count": 12,
      "outputs": [
        {
          "output_type": "execute_result",
          "data": {
            "text/plain": [
              "0.61"
            ]
          },
          "metadata": {},
          "execution_count": 12
        }
      ]
    },
    {
      "cell_type": "code",
      "source": [
        "média = infla.query('Mês == 3 and Ano >= 1995')['Inflação'].mean()\n",
        "média"
      ],
      "metadata": {
        "colab": {
          "base_uri": "https://localhost:8080/"
        },
        "id": "KoyFYWisnvMA",
        "outputId": "0c43bc3d-fae1-4e93-a3f4-448e084f713d"
      },
      "execution_count": 13,
      "outputs": [
        {
          "output_type": "execute_result",
          "data": {
            "text/plain": [
              "0.6472"
            ]
          },
          "metadata": {},
          "execution_count": 13
        }
      ]
    },
    {
      "cell_type": "code",
      "source": [
        "desviopadrão = infla.query('Mês ==3 and Ano >= 1995')['Inflação'].std()\n",
        "desviopadrão"
      ],
      "metadata": {
        "colab": {
          "base_uri": "https://localhost:8080/"
        },
        "id": "pH7w-E_woXnr",
        "outputId": "19693b7f-46a3-4d45-b697-b0bf36dec749"
      },
      "execution_count": 14,
      "outputs": [
        {
          "output_type": "execute_result",
          "data": {
            "text/plain": [
              "0.6929497336267135"
            ]
          },
          "metadata": {},
          "execution_count": 14
        }
      ]
    },
    {
      "cell_type": "code",
      "source": [
        "histograma = infla.query('Mês == 3 and Ano >=1995')['Inflação'].hist()"
      ],
      "metadata": {
        "colab": {
          "base_uri": "https://localhost:8080/",
          "height": 265
        },
        "id": "oQ9J7ZbNpBEb",
        "outputId": "bf9fcfdf-08d5-41da-fbc1-eb5d9e01919d"
      },
      "execution_count": 15,
      "outputs": [
        {
          "output_type": "display_data",
          "data": {
            "text/plain": [
              "<Figure size 432x288 with 1 Axes>"
            ],
            "image/png": "[encoded data removed]"
          },
          "metadata": {
            "needs_background": "light"
          }
        }
      ]
    },
    {
      "cell_type": "markdown",
      "source": [
        "A diferença se deu alta no item 2, pois entre os valores calculados existe números muito distantes do resto do conjunto, sendo assim a média tende a incluir esse valor, enquanto a mediana não. Já no item 3 foi uma baixa diferença, porque os valores eram mais próximos entre o conjunto, gerando assim uma média e mediana aproximadas."
      ],
      "metadata": {
        "id": "LswaOwpuCU7l"
      }
    },
    {
      "cell_type": "markdown",
      "source": [
        "Questão 4\n"
      ],
      "metadata": {
        "id": "_974rpMpBXkH"
      }
    },
    {
      "cell_type": "markdown",
      "source": [
        "Alternativa A)"
      ],
      "metadata": {
        "id": "EE_7gyvL8Z1d"
      }
    },
    {
      "cell_type": "code",
      "source": [
        "rng = np.random.default_rng()\n",
        "a = rng.uniform(size=100)\n",
        "a"
      ],
      "metadata": {
        "colab": {
          "base_uri": "https://localhost:8080/"
        },
        "id": "NR823PivBbIu",
        "outputId": "5f2d61fb-1518-4dff-af7a-4a2e57c53a78"
      },
      "execution_count": 16,
      "outputs": [
        {
          "output_type": "execute_result",
          "data": {
            "text/plain": [
              "array([0.05685551, 0.77498713, 0.22110071, 0.59134174, 0.77969785,\n",
              "       0.20726733, 0.94941697, 0.886771  , 0.69190633, 0.14304009,\n",
              "       0.25037592, 0.16167784, 0.32131091, 0.32489162, 0.89734154,\n",
              "       0.147404  , 0.033268  , 0.27408443, 0.3764116 , 0.84421876,\n",
              "       0.44535477, 0.30532908, 0.20546781, 0.1037912 , 0.5082039 ,\n",
              "       0.77929232, 0.23385463, 0.48108597, 0.30043304, 0.53629465,\n",
              "       0.66595526, 0.41097073, 0.57499948, 0.02320837, 0.87501717,\n",
              "       0.57772905, 0.5627965 , 0.85561807, 0.52396843, 0.0506608 ,\n",
              "       0.97195694, 0.98122472, 0.94501561, 0.1034259 , 0.72333743,\n",
              "       0.93125654, 0.67249447, 0.47085794, 0.20584236, 0.7268636 ,\n",
              "       0.61817105, 0.57913115, 0.18418843, 0.10361362, 0.54050434,\n",
              "       0.25476916, 0.57487759, 0.11692187, 0.00229223, 0.27326731,\n",
              "       0.59150377, 0.09903529, 0.84590427, 0.06058344, 0.34979746,\n",
              "       0.67382248, 0.27540374, 0.56649962, 0.93396792, 0.06296058,\n",
              "       0.68318909, 0.54660011, 0.62834513, 0.02687883, 0.04325011,\n",
              "       0.6643553 , 0.92911086, 0.16462563, 0.77594938, 0.68411007,\n",
              "       0.31609337, 0.93928864, 0.98102469, 0.69429688, 0.03109005,\n",
              "       0.12696563, 0.7870085 , 0.38239588, 0.68380065, 0.07407198,\n",
              "       0.08752116, 0.01307984, 0.85247943, 0.78273008, 0.47314331,\n",
              "       0.20385676, 0.45179633, 0.11178158, 0.83554006, 0.25411198])"
            ]
          },
          "metadata": {},
          "execution_count": 16
        }
      ]
    },
    {
      "cell_type": "code",
      "source": [
        "plt.figure()\n",
        "plt.hist(a)\n",
        "plt.show()"
      ],
      "metadata": {
        "colab": {
          "base_uri": "https://localhost:8080/",
          "height": 265
        },
        "id": "kmW2-X3oBb1f",
        "outputId": "50c3bd73-0bc9-4744-f895-7bbdec51d4c7"
      },
      "execution_count": 17,
      "outputs": [
        {
          "output_type": "display_data",
          "data": {
            "text/plain": [
              "<Figure size 432x288 with 1 Axes>"
            ],
            "image/png": "[encoded data removed]"
          },
          "metadata": {
            "needs_background": "light"
          }
        }
      ]
    },
    {
      "cell_type": "code",
      "source": [
        "a.mean()"
      ],
      "metadata": {
        "colab": {
          "base_uri": "https://localhost:8080/"
        },
        "id": "qSDK-hasB1fE",
        "outputId": "1f67dd26-dcca-43e1-d54a-18da26a10857"
      },
      "execution_count": 18,
      "outputs": [
        {
          "output_type": "execute_result",
          "data": {
            "text/plain": [
              "0.46621382690465196"
            ]
          },
          "metadata": {},
          "execution_count": 18
        }
      ]
    },
    {
      "cell_type": "markdown",
      "source": [
        "Alternativa B)"
      ],
      "metadata": {
        "id": "eRdJTagf8g2c"
      }
    },
    {
      "cell_type": "code",
      "source": [
        "rng = np.random.default_rng()\n",
        "b = rng.uniform(size=1000)\n",
        "b"
      ],
      "metadata": {
        "colab": {
          "base_uri": "https://localhost:8080/"
        },
        "id": "JE1rHgaaCuba",
        "outputId": "bbc4689c-fc9b-473c-b1a3-a94d72e13e6d"
      },
      "execution_count": 19,
      "outputs": [
        {
          "output_type": "execute_result",
          "data": {
            "text/plain": [
              "array([3.42831604e-01, 8.25530151e-01, 3.15497902e-01, 5.15267549e-01,\n",
              "       7.56124633e-01, 2.42117019e-02, 4.37465842e-01, 2.52071121e-01,\n",
              "       1.84423424e-02, 5.05887453e-01, 6.02608139e-01, 2.02226083e-02,\n",
              "       3.44384159e-01, 6.78465933e-01, 9.81142674e-01, 5.93244982e-01,\n",
              "       3.52960776e-01, 7.43055257e-01, 4.96121909e-01, 4.19126296e-01,\n",
              "       5.06566469e-02, 5.73556610e-01, 6.35984364e-01, 2.50178004e-01,\n",
              "       3.26051467e-02, 3.20906288e-02, 4.72399907e-02, 2.58579621e-01,\n",
              "       7.62186771e-02, 1.86739826e-01, 5.18986786e-01, 7.12714747e-01,\n",
              "       9.13097576e-01, 1.72944125e-01, 9.69380242e-01, 5.59439381e-01,\n",
              "       7.94369933e-01, 1.33634960e-01, 7.24912617e-01, 4.92690235e-01,\n",
              "       2.11991957e-01, 9.26477592e-01, 8.96284653e-01, 2.06334502e-01,\n",
              "       3.32534557e-01, 7.15396490e-02, 8.77655124e-01, 4.65922899e-01,\n",
              "       9.29293591e-01, 3.94353896e-01, 8.43135937e-01, 7.31355917e-02,\n",
              "       1.48466827e-01, 9.72199657e-01, 3.09883828e-01, 5.73156330e-01,\n",
              "       5.06773555e-01, 8.21386316e-01, 9.11578473e-01, 7.53228630e-01,\n",
              "       4.37504451e-01, 7.92203540e-01, 9.78708469e-01, 3.14213622e-01,\n",
              "       6.75587752e-01, 9.19451830e-01, 7.37241001e-01, 4.00212575e-01,\n",
              "       6.98641096e-01, 5.34987215e-02, 7.38944864e-01, 9.90613885e-01,\n",
              "       2.96556955e-01, 7.11224276e-01, 6.00165766e-01, 5.07514371e-01,\n",
              "       7.52542898e-02, 7.41597881e-01, 4.62669817e-01, 9.37609090e-01,\n",
              "       9.80025516e-01, 1.06130011e-01, 4.88345297e-01, 2.81039863e-01,\n",
              "       5.68879840e-01, 8.06005402e-01, 1.82929182e-01, 7.20364578e-02,\n",
              "       1.56696655e-01, 6.45203576e-02, 5.07956566e-01, 9.39128773e-01,\n",
              "       1.76093178e-02, 7.47447892e-01, 5.60443913e-01, 9.96539246e-01,\n",
              "       1.18643385e-01, 2.64548466e-01, 8.31371574e-01, 6.36201400e-01,\n",
              "       1.98301137e-01, 1.99925355e-01, 6.79507133e-01, 6.91583108e-01,\n",
              "       6.10769884e-01, 7.81565484e-01, 8.41929897e-01, 9.78403411e-01,\n",
              "       5.27617477e-01, 4.33011515e-01, 5.18262773e-01, 6.06235840e-01,\n",
              "       7.38273540e-01, 8.21277818e-01, 1.04277149e-01, 2.33815194e-01,\n",
              "       7.84741147e-01, 5.79758279e-01, 8.69569383e-01, 4.30380718e-01,\n",
              "       9.06761884e-01, 7.94183305e-01, 9.81682406e-02, 7.34573709e-01,\n",
              "       1.63649870e-01, 9.49710092e-01, 7.00275476e-01, 2.77895249e-01,\n",
              "       2.18946945e-01, 3.00973146e-01, 8.29682869e-01, 6.72503520e-01,\n",
              "       9.87635328e-01, 6.89738902e-01, 3.84257376e-01, 4.10430603e-01,\n",
              "       2.49369596e-01, 4.07650137e-01, 2.32379017e-01, 2.81662019e-01,\n",
              "       1.89505118e-01, 6.26145863e-01, 1.34295811e-01, 9.14921872e-01,\n",
              "       5.56765527e-01, 3.84807967e-01, 4.83513391e-01, 1.31312173e-01,\n",
              "       9.69822285e-01, 5.20127163e-01, 9.27103703e-01, 8.62703855e-01,\n",
              "       2.13247839e-01, 6.38229396e-01, 2.72895647e-01, 1.63284713e-01,\n",
              "       3.13811800e-01, 4.51456375e-01, 2.32845317e-01, 7.46741120e-01,\n",
              "       5.23718559e-01, 2.42221566e-01, 3.67492192e-01, 1.67098546e-01,\n",
              "       4.29569930e-01, 3.03885303e-03, 1.47508988e-01, 2.58823532e-01,\n",
              "       4.25295921e-01, 1.90193142e-01, 9.68045617e-02, 2.80442245e-01,\n",
              "       6.22521597e-01, 5.40245218e-01, 1.16032432e-01, 5.86115194e-01,\n",
              "       5.64447128e-01, 7.71454988e-01, 9.95438043e-01, 4.14869616e-01,\n",
              "       3.31005507e-01, 7.90567514e-02, 5.41030253e-01, 4.11959597e-01,\n",
              "       2.19446887e-01, 3.37169439e-01, 4.98227135e-01, 6.86884250e-01,\n",
              "       9.96704912e-01, 7.56089481e-01, 8.74195399e-02, 3.23879010e-01,\n",
              "       3.35292145e-01, 7.11272822e-01, 1.71733955e-01, 7.17917887e-01,\n",
              "       5.28509076e-01, 8.22835352e-01, 5.72157918e-01, 4.96840539e-01,\n",
              "       3.07664453e-01, 2.00567984e-01, 5.30441294e-01, 3.21846755e-01,\n",
              "       7.47726917e-01, 1.43074353e-01, 8.54619645e-01, 7.50028884e-01,\n",
              "       8.29022460e-01, 6.02887517e-01, 1.05554536e-01, 5.34912780e-01,\n",
              "       1.41922044e-02, 8.45459478e-01, 5.92936005e-01, 4.74930961e-01,\n",
              "       8.67452632e-01, 5.58973768e-01, 2.63046194e-01, 2.57765503e-02,\n",
              "       2.77495186e-01, 8.11837471e-02, 7.02389188e-01, 6.87839344e-01,\n",
              "       2.25352219e-01, 2.41764025e-01, 2.54354588e-01, 8.42961070e-01,\n",
              "       9.44792208e-01, 1.44788453e-01, 3.05026919e-01, 6.65931300e-01,\n",
              "       6.91703658e-01, 9.77899731e-01, 4.78840707e-01, 4.10051938e-01,\n",
              "       4.09999871e-01, 1.96567865e-01, 5.06113842e-01, 9.60065572e-01,\n",
              "       6.55631514e-01, 3.45263921e-01, 4.48314555e-02, 9.56361720e-01,\n",
              "       6.53713752e-01, 2.57338272e-01, 7.97098886e-01, 6.68629299e-01,\n",
              "       4.31560440e-01, 6.33436578e-01, 1.39557490e-01, 4.95905931e-01,\n",
              "       1.87114095e-01, 3.31876260e-01, 6.85968455e-01, 4.95941902e-01,\n",
              "       6.08492285e-02, 1.27644312e-01, 1.60967410e-01, 3.79172821e-01,\n",
              "       6.18150816e-01, 4.67787821e-01, 6.99372185e-01, 6.13323100e-01,\n",
              "       3.93137525e-01, 7.82606745e-01, 9.37962095e-01, 9.95190957e-01,\n",
              "       6.92015720e-01, 7.50557166e-01, 9.46831005e-01, 7.25563106e-01,\n",
              "       1.61793173e-02, 6.14225596e-01, 7.50884055e-01, 9.28105380e-01,\n",
              "       2.95316952e-01, 5.76726222e-01, 4.93258250e-02, 7.81737100e-01,\n",
              "       8.62947543e-01, 1.26365292e-01, 8.69858554e-01, 5.14733147e-02,\n",
              "       3.12309582e-01, 2.32252662e-02, 9.49618490e-02, 9.80150129e-01,\n",
              "       1.99328629e-01, 9.98822111e-02, 7.38686368e-01, 5.48222390e-01,\n",
              "       5.19758282e-01, 9.14247075e-03, 3.42315902e-01, 6.02451853e-01,\n",
              "       8.03998347e-01, 5.92239806e-01, 5.00475542e-02, 9.44170059e-01,\n",
              "       8.23676760e-01, 5.14382122e-01, 2.08122286e-01, 2.44456014e-01,\n",
              "       6.09264582e-01, 8.50053247e-01, 1.57552022e-01, 9.85092049e-01,\n",
              "       4.14873822e-01, 1.74121582e-01, 8.07274984e-01, 4.80072350e-01,\n",
              "       8.28952573e-01, 6.99282993e-02, 2.71426138e-01, 1.21411982e-01,\n",
              "       2.65077526e-01, 3.07524387e-02, 8.76345446e-01, 7.87677043e-01,\n",
              "       7.70320253e-01, 5.11702584e-01, 1.51616120e-02, 1.02919568e-01,\n",
              "       6.28786916e-01, 2.53227687e-01, 3.56547515e-02, 2.58891619e-01,\n",
              "       7.21767760e-01, 4.79533449e-01, 6.55018012e-01, 1.13613456e-01,\n",
              "       7.77327530e-01, 1.75864978e-02, 7.19411717e-01, 1.35849186e-01,\n",
              "       7.42635640e-01, 6.51011180e-01, 8.54216993e-01, 6.38584185e-01,\n",
              "       5.07691573e-01, 8.59870089e-01, 3.64882646e-01, 2.52250338e-01,\n",
              "       6.50917411e-01, 6.58085961e-01, 4.00788669e-01, 6.33746081e-01,\n",
              "       1.64723285e-02, 6.21179777e-01, 7.99292912e-01, 4.70912855e-01,\n",
              "       2.05166123e-01, 4.17527229e-01, 2.15876770e-01, 2.44241631e-01,\n",
              "       4.28249093e-01, 1.26522471e-02, 1.45392455e-01, 7.51243923e-01,\n",
              "       1.39775811e-01, 8.54176375e-01, 3.66790171e-01, 3.80737218e-01,\n",
              "       1.93966829e-01, 4.86168791e-02, 9.60094428e-01, 9.51228579e-01,\n",
              "       6.74419676e-01, 5.62721533e-01, 6.13679707e-01, 1.54252503e-01,\n",
              "       7.53646022e-01, 5.29781420e-01, 1.43010740e-01, 3.36992404e-01,\n",
              "       6.03037223e-01, 6.57169717e-01, 9.74960222e-01, 4.84834144e-01,\n",
              "       6.70540340e-01, 9.66589591e-01, 3.21337850e-01, 6.74202020e-01,\n",
              "       7.50292285e-01, 2.36260832e-01, 6.19789693e-02, 1.20292878e-01,\n",
              "       9.43419651e-01, 2.80466016e-01, 2.01765814e-03, 6.47719460e-01,\n",
              "       4.71909882e-01, 5.61509188e-01, 7.49061398e-01, 2.22325673e-01,\n",
              "       4.42428591e-01, 8.72752316e-01, 3.54313345e-01, 3.12634922e-01,\n",
              "       8.71907045e-01, 7.22714265e-01, 7.57758010e-01, 3.21702569e-01,\n",
              "       4.01220031e-01, 2.97176325e-01, 5.14360446e-01, 2.08668798e-01,\n",
              "       1.66417148e-01, 7.94697659e-01, 9.02138351e-01, 6.93281710e-01,\n",
              "       6.20524890e-01, 7.89158290e-01, 4.56177773e-01, 6.80168678e-02,\n",
              "       6.95252898e-01, 4.12322069e-01, 2.77334105e-01, 3.06017758e-01,\n",
              "       9.38462314e-01, 6.79060131e-01, 2.07246215e-01, 3.08759422e-01,\n",
              "       5.53530043e-01, 6.62487458e-01, 9.42179550e-01, 7.78145952e-01,\n",
              "       6.79952739e-01, 1.29956706e-01, 2.18861734e-03, 7.17862910e-01,\n",
              "       4.71668198e-01, 3.86629525e-02, 8.67406457e-01, 7.38078536e-01,\n",
              "       6.13514941e-01, 6.79088983e-01, 8.28069516e-01, 8.50785236e-01,\n",
              "       5.41651886e-01, 6.57934296e-01, 3.36248526e-02, 7.20395878e-01,\n",
              "       9.22292025e-01, 5.40540148e-01, 2.91451936e-01, 1.19142994e-01,\n",
              "       1.47432787e-02, 5.16471173e-01, 7.13095097e-01, 3.02809803e-01,\n",
              "       7.02923508e-01, 8.12268953e-01, 9.57021412e-01, 8.67310297e-01,\n",
              "       6.22846466e-01, 5.66563434e-01, 5.97824997e-01, 1.73976500e-01,\n",
              "       1.50676639e-01, 7.79448687e-01, 5.48231485e-01, 8.16061534e-01,\n",
              "       1.73610942e-01, 6.73000137e-02, 9.59134344e-01, 7.23888897e-01,\n",
              "       6.98372238e-02, 5.67716362e-01, 4.07757169e-01, 5.65188090e-01,\n",
              "       7.09389541e-02, 7.39112532e-01, 9.92559161e-01, 2.45311562e-01,\n",
              "       7.93815305e-02, 7.33491544e-01, 8.47796475e-01, 4.15739258e-01,\n",
              "       7.82382098e-02, 6.07536442e-01, 7.03978119e-02, 9.36358158e-01,\n",
              "       5.43621686e-01, 7.51505469e-01, 1.08447032e-01, 5.03960843e-01,\n",
              "       5.12809451e-01, 9.23391916e-01, 1.81089594e-01, 9.51706040e-01,\n",
              "       7.34657949e-01, 6.22341092e-02, 8.53082505e-01, 9.40406942e-01,\n",
              "       3.15350464e-01, 2.03284826e-02, 6.26047969e-01, 9.13654319e-01,\n",
              "       2.81380531e-01, 2.01586207e-01, 2.00450543e-01, 1.17342516e-01,\n",
              "       9.90217548e-01, 9.78854959e-01, 9.35174415e-01, 7.57018314e-01,\n",
              "       4.11521502e-01, 1.64989653e-01, 9.48803777e-01, 5.12240483e-01,\n",
              "       6.17745249e-01, 5.52773909e-01, 6.96804867e-01, 5.72976923e-01,\n",
              "       9.68598338e-01, 5.78157841e-01, 5.35756423e-01, 9.92356528e-01,\n",
              "       6.59202788e-01, 2.90124471e-01, 7.30881705e-01, 3.90289760e-01,\n",
              "       8.51882834e-01, 1.45268508e-01, 5.16327587e-01, 6.85263628e-02,\n",
              "       9.72537101e-02, 3.90242001e-01, 8.18579870e-01, 1.06500300e-02,\n",
              "       8.19149827e-01, 8.42310790e-01, 7.84914303e-01, 9.50644196e-01,\n",
              "       6.95213580e-01, 7.55058503e-01, 7.15109201e-01, 2.01526021e-01,\n",
              "       3.70212136e-01, 9.20468477e-01, 3.32639346e-01, 9.71964216e-02,\n",
              "       9.16608466e-01, 5.63392789e-01, 1.50717051e-02, 9.71324866e-01,\n",
              "       7.61085368e-01, 7.08380119e-01, 8.68827231e-01, 1.87721662e-01,\n",
              "       8.37230675e-01, 6.88443199e-01, 7.39353449e-01, 6.48536984e-01,\n",
              "       6.12634078e-01, 5.03392732e-01, 3.94570311e-01, 4.32175116e-02,\n",
              "       3.61146937e-01, 7.84332283e-01, 3.68305202e-01, 7.82180622e-01,\n",
              "       6.03536202e-01, 5.27198327e-01, 5.12740041e-01, 7.69789469e-01,\n",
              "       1.13935723e-02, 8.92410100e-01, 4.32181671e-01, 2.53333790e-01,\n",
              "       6.12930960e-01, 5.95333418e-02, 3.06139602e-01, 7.43462504e-01,\n",
              "       3.80601481e-02, 8.16772300e-01, 6.74015319e-01, 9.07113978e-01,\n",
              "       7.63494529e-01, 1.04184630e-01, 2.55873073e-01, 7.96529141e-01,\n",
              "       2.27739316e-01, 3.93582862e-01, 1.45066341e-01, 3.27682491e-01,\n",
              "       5.33456551e-01, 4.25834501e-01, 8.44518022e-01, 2.50296158e-01,\n",
              "       9.10709912e-01, 6.32879640e-01, 6.09911288e-01, 5.51625555e-01,\n",
              "       1.17072530e-01, 5.96346774e-01, 5.14575852e-01, 8.60848173e-01,\n",
              "       6.36977837e-01, 2.01497659e-01, 1.31366136e-01, 1.90499459e-01,\n",
              "       9.32132519e-01, 6.24946522e-02, 8.41332020e-01, 3.37793538e-02,\n",
              "       8.19664030e-01, 4.19802927e-01, 2.35416239e-01, 7.74891271e-01,\n",
              "       6.60482020e-01, 5.98224175e-01, 7.69559346e-01, 6.17645890e-01,\n",
              "       6.51930817e-01, 1.55673400e-02, 8.86563910e-01, 2.76807011e-01,\n",
              "       6.60025949e-01, 7.67684373e-01, 7.88154016e-01, 9.42179754e-01,\n",
              "       5.71366714e-01, 5.68437179e-01, 7.20889586e-01, 9.17750012e-01,\n",
              "       3.87935572e-01, 1.12100665e-01, 9.21821353e-01, 2.64588281e-01,\n",
              "       4.23136215e-03, 8.27319117e-01, 2.27883627e-01, 7.71624889e-01,\n",
              "       8.22804437e-01, 2.19146030e-01, 1.28217985e-01, 8.79465761e-01,\n",
              "       6.27746416e-01, 6.22579192e-01, 6.08126760e-01, 9.74025291e-01,\n",
              "       8.48396155e-01, 6.69141084e-01, 6.36524549e-01, 2.55625824e-01,\n",
              "       3.17130432e-01, 4.89723585e-01, 9.88142254e-01, 2.75704521e-01,\n",
              "       5.57519737e-01, 4.96541391e-01, 8.61533951e-01, 4.95539140e-01,\n",
              "       5.66902029e-01, 8.30025787e-01, 9.48610676e-01, 5.63842008e-01,\n",
              "       9.99418702e-01, 6.56981711e-01, 2.19448710e-01, 3.04359630e-01,\n",
              "       1.81466701e-01, 3.98455188e-01, 1.81645824e-01, 4.34131331e-01,\n",
              "       6.96917584e-01, 3.72135441e-01, 2.63190277e-01, 2.46816259e-01,\n",
              "       1.09801794e-01, 3.05591389e-01, 2.40766080e-01, 4.73424556e-01,\n",
              "       3.61086644e-02, 5.58530421e-01, 5.25445445e-01, 8.75086390e-01,\n",
              "       6.14306245e-01, 1.69288879e-01, 4.20435151e-01, 6.55886857e-01,\n",
              "       3.02631978e-01, 8.19990480e-01, 5.61856072e-01, 2.28971219e-01,\n",
              "       6.98979158e-01, 7.40459242e-01, 4.07485411e-01, 9.34301865e-01,\n",
              "       4.25412935e-03, 8.11697560e-01, 8.87699236e-01, 7.60975767e-01,\n",
              "       7.92099392e-01, 8.19827971e-01, 5.45600641e-01, 6.82279212e-01,\n",
              "       2.15512898e-01, 7.97424079e-01, 6.84966029e-01, 2.47567642e-01,\n",
              "       5.16015945e-01, 9.39272170e-01, 9.73358926e-01, 3.71414948e-01,\n",
              "       2.17638593e-01, 4.21209199e-01, 8.37696685e-01, 6.33595319e-01,\n",
              "       6.70894979e-01, 3.89091491e-01, 2.05897917e-01, 5.14124458e-01,\n",
              "       5.59502393e-01, 4.86057845e-01, 9.17391696e-01, 7.80957988e-01,\n",
              "       4.18274257e-01, 8.41092422e-01, 9.26223099e-01, 2.30955376e-01,\n",
              "       9.90670013e-01, 1.02810819e-01, 5.94727877e-01, 1.89852888e-01,\n",
              "       6.69850112e-01, 9.35657836e-01, 2.47737273e-01, 2.92493972e-01,\n",
              "       4.94614879e-01, 9.56241021e-01, 7.12076408e-01, 7.95717945e-01,\n",
              "       5.51746720e-01, 7.07526065e-01, 6.71980663e-01, 7.24960171e-01,\n",
              "       4.34266982e-02, 5.60845232e-01, 1.26015331e-01, 2.91229403e-01,\n",
              "       9.11074837e-01, 7.66980129e-02, 8.64721637e-01, 5.86573409e-01,\n",
              "       5.87157183e-01, 5.92891926e-01, 3.90452292e-01, 8.60266840e-01,\n",
              "       9.50513733e-01, 3.25313082e-01, 7.42146112e-01, 6.54291725e-01,\n",
              "       6.83317923e-01, 1.20928608e-01, 5.88761758e-01, 1.56252637e-02,\n",
              "       8.24318586e-02, 8.65423197e-01, 7.52864480e-02, 3.06246756e-01,\n",
              "       1.01711021e-01, 7.85976799e-01, 8.05863194e-01, 3.78781882e-01,\n",
              "       9.86203315e-01, 2.63304737e-01, 8.37997158e-01, 5.83864330e-01,\n",
              "       2.61387033e-01, 6.39495694e-01, 3.99317931e-01, 8.41691005e-01,\n",
              "       7.20843774e-01, 7.07538915e-01, 3.71498394e-01, 9.44593359e-01,\n",
              "       4.94642630e-01, 8.69839446e-01, 3.74806369e-01, 1.05596549e-01,\n",
              "       8.36968601e-01, 6.51422331e-01, 2.66593081e-02, 6.03555823e-01,\n",
              "       5.85809690e-01, 3.32031539e-01, 4.01431167e-01, 8.92447999e-01,\n",
              "       3.62132008e-01, 2.77541465e-02, 7.03987080e-01, 1.83575360e-01,\n",
              "       1.51294890e-01, 8.08628409e-01, 9.20573438e-01, 2.89144931e-01,\n",
              "       1.96219151e-02, 1.61309129e-01, 6.90748808e-01, 4.50551277e-01,\n",
              "       8.10096656e-02, 4.94394186e-02, 7.82702891e-01, 7.64761629e-01,\n",
              "       3.38560744e-01, 5.57217187e-01, 8.36545452e-01, 7.36732191e-01,\n",
              "       8.06847010e-01, 3.23939896e-01, 4.59302980e-01, 6.76415424e-01,\n",
              "       2.49379604e-01, 7.67570345e-01, 4.53784700e-01, 7.63844781e-01,\n",
              "       9.37829987e-01, 4.67598216e-02, 9.10227262e-01, 8.74746309e-01,\n",
              "       4.01166604e-01, 8.06103214e-01, 4.83560887e-01, 9.89292189e-01,\n",
              "       3.13101694e-01, 3.11060506e-01, 8.14276183e-01, 8.12845939e-01,\n",
              "       7.09584509e-01, 9.47747262e-01, 6.58549124e-01, 7.72014464e-01,\n",
              "       3.50679152e-01, 5.67155259e-01, 8.57522444e-04, 9.19380171e-01,\n",
              "       2.62270375e-01, 7.46400091e-01, 4.30458683e-01, 3.08266724e-01,\n",
              "       3.40357543e-01, 2.92714923e-01, 9.90965926e-02, 2.98426704e-01,\n",
              "       7.35256706e-02, 6.82786746e-02, 3.99263646e-01, 7.42232717e-01,\n",
              "       4.22261980e-01, 8.44624154e-01, 5.89718128e-01, 4.62856687e-01,\n",
              "       9.25934217e-01, 6.40301709e-01, 1.38764145e-01, 2.02446867e-01,\n",
              "       9.92653029e-01, 1.63392254e-01, 1.97946089e-01, 8.87145226e-01,\n",
              "       1.08421928e-01, 7.79905428e-01, 3.09120369e-02, 8.83468867e-01,\n",
              "       5.40454809e-01, 5.40139871e-01, 2.83452609e-01, 1.58754341e-01,\n",
              "       8.60787946e-01, 7.05407700e-01, 1.25643374e-01, 3.43749893e-01,\n",
              "       8.84370822e-01, 6.26846846e-01, 8.66424311e-01, 3.79757572e-01,\n",
              "       1.74287499e-01, 3.09827860e-01, 3.30710440e-01, 3.16685283e-01,\n",
              "       1.05301221e-01, 5.13534275e-02, 8.80049450e-01, 1.81472148e-01,\n",
              "       8.49519652e-01, 7.68836428e-01, 4.21336115e-01, 7.10829994e-01,\n",
              "       6.41978460e-01, 7.51822910e-02, 5.53723985e-01, 9.19764444e-01,\n",
              "       3.16557200e-01, 4.04270250e-01, 8.32761651e-01, 5.25720250e-01,\n",
              "       6.06590235e-01, 5.66708496e-01, 5.28541053e-01, 3.64939587e-01,\n",
              "       5.62548325e-01, 4.99064843e-01, 6.29288085e-01, 1.32407758e-01,\n",
              "       9.78685190e-01, 1.16186572e-01, 1.37764776e-01, 1.81845744e-01,\n",
              "       3.44491176e-01, 7.92395198e-01, 1.57625311e-01, 8.89841738e-01,\n",
              "       9.02062270e-01, 9.58090857e-01, 7.56145107e-01, 4.95638008e-01,\n",
              "       2.75051137e-01, 4.36494628e-01, 6.42348359e-01, 5.70249954e-01,\n",
              "       9.57465971e-02, 1.45540427e-02, 2.71431754e-01, 7.53318001e-01,\n",
              "       8.14361974e-01, 1.13767680e-01, 9.11224437e-01, 6.49989521e-01,\n",
              "       4.99957313e-01, 2.10360700e-01, 3.40523168e-01, 7.91960277e-01,\n",
              "       5.05764864e-02, 3.58186250e-01, 6.86829505e-01, 5.11182666e-01,\n",
              "       5.77508757e-01, 2.69088995e-01, 1.93273503e-01, 1.40354757e-02,\n",
              "       4.32291765e-01, 9.00823451e-01, 6.81917593e-01, 2.48412433e-01,\n",
              "       6.52481556e-01, 7.03588943e-01, 3.29732915e-01, 3.38525706e-01,\n",
              "       1.71800125e-02, 6.79473850e-01, 3.54516520e-01, 9.46245980e-01,\n",
              "       7.79836189e-01, 2.01763491e-01, 7.03425210e-01, 7.66504148e-01,\n",
              "       4.97315949e-01, 9.58548755e-01, 2.96239365e-01, 6.47580589e-02,\n",
              "       8.69444404e-01, 1.89268911e-01, 2.91459214e-01, 9.73320298e-01,\n",
              "       8.48456092e-01, 2.92665005e-02, 4.10209828e-01, 1.92842511e-01,\n",
              "       5.86570810e-01, 7.40227379e-01, 4.56928834e-01, 1.09404934e-01,\n",
              "       5.50826108e-01, 8.41103963e-01, 9.17855953e-01, 2.65676138e-01,\n",
              "       1.04117180e-01, 1.97899397e-01, 5.57022230e-01, 9.38703437e-01,\n",
              "       8.27228131e-02, 7.02663404e-01, 8.96649419e-01, 4.79479531e-01,\n",
              "       4.19387208e-01, 6.76300126e-01, 9.03135065e-01, 3.49726618e-01,\n",
              "       9.45222539e-01, 3.65252199e-01, 8.05806470e-02, 3.70174513e-01,\n",
              "       5.22133056e-01, 3.34076026e-02, 7.61929168e-01, 8.97417224e-01])"
            ]
          },
          "metadata": {},
          "execution_count": 19
        }
      ]
    },
    {
      "cell_type": "code",
      "source": [
        "plt.figure()\n",
        "plt.hist(b)\n",
        "plt.show()"
      ],
      "metadata": {
        "colab": {
          "base_uri": "https://localhost:8080/",
          "height": 265
        },
        "id": "8tr4n2f0DCug",
        "outputId": "8228b456-ed77-4ced-fcc7-81988fa6e8bb"
      },
      "execution_count": 20,
      "outputs": [
        {
          "output_type": "display_data",
          "data": {
            "text/plain": [
              "<Figure size 432x288 with 1 Axes>"
            ],
            "image/png": "[encoded data removed]"
          },
          "metadata": {
            "needs_background": "light"
          }
        }
      ]
    },
    {
      "cell_type": "code",
      "source": [
        "b.mean()"
      ],
      "metadata": {
        "colab": {
          "base_uri": "https://localhost:8080/"
        },
        "id": "i-EzTAj3DFzI",
        "outputId": "20537301-4fe5-4c3d-f337-0c9bf87b1ada"
      },
      "execution_count": 21,
      "outputs": [
        {
          "output_type": "execute_result",
          "data": {
            "text/plain": [
              "0.5114751829029935"
            ]
          },
          "metadata": {},
          "execution_count": 21
        }
      ]
    },
    {
      "cell_type": "markdown",
      "source": [
        "Alternativa C)"
      ],
      "metadata": {
        "id": "by_4Xm298kbF"
      }
    },
    {
      "cell_type": "code",
      "source": [
        "rng = np.random.default_rng()\n",
        "c = rng.uniform(size=10000)\n",
        "c"
      ],
      "metadata": {
        "colab": {
          "base_uri": "https://localhost:8080/"
        },
        "id": "ZA1ppzKCDJU7",
        "outputId": "c21df1ae-10d6-4651-8dca-a614572d40fd"
      },
      "execution_count": 22,
      "outputs": [
        {
          "output_type": "execute_result",
          "data": {
            "text/plain": [
              "array([0.08463056, 0.1978116 , 0.06051253, ..., 0.6932175 , 0.61586951,\n",
              "       0.07549004])"
            ]
          },
          "metadata": {},
          "execution_count": 22
        }
      ]
    },
    {
      "cell_type": "code",
      "source": [
        "plt.figure()\n",
        "plt.hist(c)\n",
        "plt.show()"
      ],
      "metadata": {
        "colab": {
          "base_uri": "https://localhost:8080/",
          "height": 265
        },
        "id": "XaJ8eDAqDOqe",
        "outputId": "1a04c48a-8321-4628-9f37-0e600757f1db"
      },
      "execution_count": 23,
      "outputs": [
        {
          "output_type": "display_data",
          "data": {
            "text/plain": [
              "<Figure size 432x288 with 1 Axes>"
            ],
            "image/png": "[encoded data removed]"
          },
          "metadata": {
            "needs_background": "light"
          }
        }
      ]
    },
    {
      "cell_type": "code",
      "source": [
        "c.mean()"
      ],
      "metadata": {
        "colab": {
          "base_uri": "https://localhost:8080/"
        },
        "id": "Z1hJ_FSDDRr4",
        "outputId": "a15d2460-0e43-4c1b-da04-c51c7fcdf94d"
      },
      "execution_count": 24,
      "outputs": [
        {
          "output_type": "execute_result",
          "data": {
            "text/plain": [
              "0.5000697231659005"
            ]
          },
          "metadata": {},
          "execution_count": 24
        }
      ]
    },
    {
      "cell_type": "markdown",
      "source": [
        "Alternativa D)"
      ],
      "metadata": {
        "id": "F0jKCdvP8nWb"
      }
    },
    {
      "cell_type": "code",
      "source": [
        "rng = np.random.default_rng()\n",
        "d = rng.uniform(size=100000)\n",
        "d"
      ],
      "metadata": {
        "colab": {
          "base_uri": "https://localhost:8080/"
        },
        "id": "JP4WWO6gDTxM",
        "outputId": "80b28375-0a93-419d-88d0-5a90ceecd89b"
      },
      "execution_count": 25,
      "outputs": [
        {
          "output_type": "execute_result",
          "data": {
            "text/plain": [
              "array([0.72905356, 0.55813537, 0.57858843, ..., 0.51492067, 0.58871036,\n",
              "       0.74375529])"
            ]
          },
          "metadata": {},
          "execution_count": 25
        }
      ]
    },
    {
      "cell_type": "code",
      "source": [
        "plt.figure()\n",
        "plt.hist(d)\n",
        "plt.show()"
      ],
      "metadata": {
        "colab": {
          "base_uri": "https://localhost:8080/",
          "height": 265
        },
        "id": "ThKkij2EDYh5",
        "outputId": "94e1a323-645d-41ef-83f8-dfbd9abe7a81"
      },
      "execution_count": 26,
      "outputs": [
        {
          "output_type": "display_data",
          "data": {
            "text/plain": [
              "<Figure size 432x288 with 1 Axes>"
            ],
            "image/png": "[encoded data removed]"
          },
          "metadata": {
            "needs_background": "light"
          }
        }
      ]
    },
    {
      "cell_type": "code",
      "source": [
        "d.mean()"
      ],
      "metadata": {
        "colab": {
          "base_uri": "https://localhost:8080/"
        },
        "id": "dEcQzJOGDaql",
        "outputId": "6bb18591-90e7-4956-fb11-b4466b903431"
      },
      "execution_count": 27,
      "outputs": [
        {
          "output_type": "execute_result",
          "data": {
            "text/plain": [
              "0.4994855429477954"
            ]
          },
          "metadata": {},
          "execution_count": 27
        }
      ]
    }
  ]
}