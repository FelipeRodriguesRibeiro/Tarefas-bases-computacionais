{
  "nbformat": 4,
  "nbformat_minor": 0,
  "metadata": {
    "colab": {
      "provenance": []
    },
    "kernelspec": {
      "name": "python3",
      "display_name": "Python 3"
    },
    "language_info": {
      "name": "python"
    }
  },
  "cells": [
    {
      "cell_type": "code",
      "source": [
        "import numpy as np\n"
      ],
      "metadata": {
        "id": "c218IO54udVy"
      },
      "execution_count": 2,
      "outputs": []
    },
    {
      "cell_type": "code",
      "execution_count": 19,
      "metadata": {
        "id": "umcl7btRhG44"
      },
      "outputs": [],
      "source": [
        "\n",
        "def estaNoIntervalo(a, b, x):\n",
        " if a < x < b:\n",
        "  return True\n",
        " else:\n",
        "  return False"
      ]
    },
    {
      "cell_type": "markdown",
      "source": [
        "A)"
      ],
      "metadata": {
        "id": "qSyyB6QsvcM6"
      }
    },
    {
      "cell_type": "code",
      "source": [
        "estaNoIntervalo(a= -2.5,b = 6.3,x= 9.1)"
      ],
      "metadata": {
        "colab": {
          "base_uri": "https://localhost:8080/"
        },
        "id": "3wLIOL4BwTxx",
        "outputId": "e49c062c-c884-4cb4-ab44-a619be6cdc79"
      },
      "execution_count": 20,
      "outputs": [
        {
          "output_type": "execute_result",
          "data": {
            "text/plain": [
              "False"
            ]
          },
          "metadata": {},
          "execution_count": 20
        }
      ]
    },
    {
      "cell_type": "markdown",
      "source": [
        "B)"
      ],
      "metadata": {
        "id": "DuWFT0RJvcWw"
      }
    },
    {
      "cell_type": "code",
      "source": [
        "estaNoIntervalo(a= -10,b= 7,x= 2.2)"
      ],
      "metadata": {
        "colab": {
          "base_uri": "https://localhost:8080/"
        },
        "id": "ZRAlPYLGwxlJ",
        "outputId": "06686c23-a340-4b8d-ca49-00f843d23688"
      },
      "execution_count": 21,
      "outputs": [
        {
          "output_type": "execute_result",
          "data": {
            "text/plain": [
              "True"
            ]
          },
          "metadata": {},
          "execution_count": 21
        }
      ]
    },
    {
      "cell_type": "markdown",
      "source": [
        "C)"
      ],
      "metadata": {
        "id": "fNj_MRnCxbYY"
      }
    },
    {
      "cell_type": "code",
      "source": [
        "estaNoIntervalo(a= 67.2,b= 87.2,x= 8.1)"
      ],
      "metadata": {
        "colab": {
          "base_uri": "https://localhost:8080/"
        },
        "id": "UB166PMOwyzf",
        "outputId": "20f92cf2-13d4-4f5c-e9aa-58e4a0a544c5"
      },
      "execution_count": 22,
      "outputs": [
        {
          "output_type": "execute_result",
          "data": {
            "text/plain": [
              "False"
            ]
          },
          "metadata": {},
          "execution_count": 22
        }
      ]
    }
  ]
}