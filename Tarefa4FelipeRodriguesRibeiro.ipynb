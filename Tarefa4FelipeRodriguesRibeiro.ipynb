{
  "nbformat": 4,
  "nbformat_minor": 0,
  "metadata": {
    "colab": {
      "provenance": []
    },
    "kernelspec": {
      "name": "python3",
      "display_name": "Python 3"
    },
    "language_info": {
      "name": "python"
    }
  },
  "cells": [
    {
      "cell_type": "markdown",
      "source": [
        "Tarefa 4 - Felipe Rodrigues Ribeiro"
      ],
      "metadata": {
        "id": "5gu_8t4O9I-F"
      }
    },
    {
      "cell_type": "markdown",
      "source": [
        "Questão 1 (executa a fórmula do volume)"
      ],
      "metadata": {
        "id": "nIqrDCTZa_HW"
      }
    },
    {
      "cell_type": "code",
      "source": [
        "import numpy as np\n",
        "p = np.pi\n",
        "p\n",
        "print (p)\n",
        "\n",
        "# alternativa a\n",
        "R = 0.32 #metros\n",
        "R1 = R**3\n",
        "R1\n",
        "V = 4/3*p*R1 #volume em metros cúbicos\n",
        "V"
      ],
      "metadata": {
        "id": "Mie00KYZG-tJ",
        "colab": {
          "base_uri": "https://localhost:8080/"
        },
        "outputId": "16fe954d-d610-4571-af69-1ec22372411f"
      },
      "execution_count": 14,
      "outputs": [
        {
          "output_type": "stream",
          "name": "stdout",
          "text": [
            "3.141592653589793\n"
          ]
        },
        {
          "output_type": "execute_result",
          "data": {
            "text/plain": [
              "0.13725827743044047"
            ]
          },
          "metadata": {},
          "execution_count": 14
        }
      ]
    },
    {
      "cell_type": "code",
      "source": [
        "#alternativa b\n",
        "R = 1 #metros\n",
        "R2 = R**3\n",
        "V = 4/3*p*R2 #volume em metros cúbicos\n",
        "V"
      ],
      "metadata": {
        "colab": {
          "base_uri": "https://localhost:8080/"
        },
        "id": "8Cgr8k6l2uVm",
        "outputId": "29b0781a-31c3-4bba-a6db-bdb968f3bbdc"
      },
      "execution_count": 3,
      "outputs": [
        {
          "output_type": "execute_result",
          "data": {
            "text/plain": [
              "4.1887902047863905"
            ]
          },
          "metadata": {},
          "execution_count": 3
        }
      ]
    },
    {
      "cell_type": "code",
      "source": [
        "# alternativa c\n",
        "R = 1.9\n",
        "R3 = R**3\n",
        "V = 4/3*p*R3 #volume em metros cúbicos\n",
        "V"
      ],
      "metadata": {
        "id": "yQDcnoFePElD",
        "colab": {
          "base_uri": "https://localhost:8080/"
        },
        "outputId": "35338f3e-799a-4991-d059-94e4cbadfc70"
      },
      "execution_count": 4,
      "outputs": [
        {
          "output_type": "execute_result",
          "data": {
            "text/plain": [
              "28.730912014629848"
            ]
          },
          "metadata": {},
          "execution_count": 4
        }
      ]
    },
    {
      "cell_type": "markdown",
      "source": [
        "Questão 2 (transforma graus celsius em fahrenheit)"
      ],
      "metadata": {
        "id": "kMadA6dB3dFW"
      }
    },
    {
      "cell_type": "code",
      "source": [
        "#alternativa a\n",
        "Tc = -10 #graus celsius\n",
        "Tf = (Tc * 9/5) + 32 \n",
        "Tf #fahrenheit"
      ],
      "metadata": {
        "colab": {
          "base_uri": "https://localhost:8080/"
        },
        "id": "fPVcGnTuUkeR",
        "outputId": "baec1562-0238-43ad-f842-7270a99fc371"
      },
      "execution_count": 5,
      "outputs": [
        {
          "output_type": "execute_result",
          "data": {
            "text/plain": [
              "14.0"
            ]
          },
          "metadata": {},
          "execution_count": 5
        }
      ]
    },
    {
      "cell_type": "code",
      "source": [
        "#alternativa b\n",
        "Tc = 30 #graus celsius\n",
        "Tf = (Tc*9/5) + 32\n",
        "Tf #fahrenheit"
      ],
      "metadata": {
        "colab": {
          "base_uri": "https://localhost:8080/"
        },
        "id": "l1D9pkskVGn3",
        "outputId": "b02f91cc-8616-4972-a5bc-417e14120b8e"
      },
      "execution_count": 6,
      "outputs": [
        {
          "output_type": "execute_result",
          "data": {
            "text/plain": [
              "86.0"
            ]
          },
          "metadata": {},
          "execution_count": 6
        }
      ]
    },
    {
      "cell_type": "code",
      "source": [
        "#alternativa c\n",
        "Tc = 5 #graus celsius\n",
        "Tf = (Tc*9/5) + 32\n",
        "Tf #fahrenheit"
      ],
      "metadata": {
        "colab": {
          "base_uri": "https://localhost:8080/"
        },
        "id": "uwdLdSRZZD93",
        "outputId": "8d2a3571-2150-4f08-b36c-08a00f640aff"
      },
      "execution_count": 7,
      "outputs": [
        {
          "output_type": "execute_result",
          "data": {
            "text/plain": [
              "41.0"
            ]
          },
          "metadata": {},
          "execution_count": 7
        }
      ]
    },
    {
      "cell_type": "markdown",
      "source": [
        "Questão 3 (aplica a lei dos cossenos)"
      ],
      "metadata": {
        "id": "0qyrrk8plYJa"
      }
    },
    {
      "cell_type": "code",
      "source": [
        "#alternativa a\n",
        "d = np.cos(p/6)\n",
        "d #cosseno\n",
        "a = 1\n",
        "b = 2\n",
        "c = np.sqrt(a**2+b**2-2*a*b*d)\n",
        "c #lado do triângulo"
      ],
      "metadata": {
        "colab": {
          "base_uri": "https://localhost:8080/"
        },
        "id": "Xx9jewtEZez6",
        "outputId": "f8df34fb-1e7f-42d8-c5a4-63de19086e80"
      },
      "execution_count": 8,
      "outputs": [
        {
          "output_type": "execute_result",
          "data": {
            "text/plain": [
              "1.2393136749274758"
            ]
          },
          "metadata": {},
          "execution_count": 8
        }
      ]
    },
    {
      "cell_type": "code",
      "source": [
        "#alternativa b\n",
        "e = np.cos(p/4)\n",
        "e #cosseno\n",
        "a = 3\n",
        "b = 1\n",
        "c = np.sqrt(z**2+s**2-2*z*s*e)\n",
        "c #lado do triângulo"
      ],
      "metadata": {
        "colab": {
          "base_uri": "https://localhost:8080/"
        },
        "id": "4iq-elmPe0P3",
        "outputId": "e215c465-b302-44e8-86ae-50e31c9cfdf8"
      },
      "execution_count": 47,
      "outputs": [
        {
          "output_type": "execute_result",
          "data": {
            "text/plain": [
              "2.3994497937820483"
            ]
          },
          "metadata": {},
          "execution_count": 47
        }
      ]
    },
    {
      "cell_type": "code",
      "source": [
        "#alternativa c\n",
        "f = np.cos(p/12)\n",
        "f #cosseno\n",
        "a = 10\n",
        "b = 11\n",
        "c = np.sqrt(a**2 + b**2 - 2*a*b*f)\n",
        "c #lado do triângulo"
      ],
      "metadata": {
        "colab": {
          "base_uri": "https://localhost:8080/"
        },
        "id": "ust2ryHhgq2p",
        "outputId": "f992b87d-d427-4570-a34a-1820c0133892"
      },
      "execution_count": 10,
      "outputs": [
        {
          "output_type": "execute_result",
          "data": {
            "text/plain": [
              "2.9148444583553634"
            ]
          },
          "metadata": {},
          "execution_count": 10
        }
      ]
    },
    {
      "cell_type": "markdown",
      "source": [
        "Questão 4 (executar a expressão de fibonacci)\n"
      ],
      "metadata": {
        "id": "m1BJGzEdj0pr"
      }
    },
    {
      "cell_type": "code",
      "source": [
        "#alternativa a\n",
        "i = 30\n",
        "x = ((1+np.sqrt(5))/2)**i\n",
        "y = ((1-np.sqrt(5))/2)**i\n",
        "Fi = np.floor((x - y)/np.sqrt(5)) \n",
        "Fi\n"
      ],
      "metadata": {
        "colab": {
          "base_uri": "https://localhost:8080/"
        },
        "id": "lXz48IHikF7y",
        "outputId": "c77aa294-4dad-4380-c2ae-fbaed703d30e"
      },
      "execution_count": 48,
      "outputs": [
        {
          "output_type": "execute_result",
          "data": {
            "text/plain": [
              "832040.0"
            ]
          },
          "metadata": {},
          "execution_count": 48
        }
      ]
    },
    {
      "cell_type": "code",
      "source": [
        "#alternativa b \n",
        "i = 31\n",
        "x = ((1+np.sqrt(5))/2)**i\n",
        "y = ((1-np.sqrt(5))/2)**i\n",
        "Fi2 = np.floor((x-y)/np.sqrt(5))\n",
        "Fi2"
      ],
      "metadata": {
        "id": "cJhPVGAXlfuS",
        "colab": {
          "base_uri": "https://localhost:8080/"
        },
        "outputId": "e3664af3-f05b-4cb9-9e86-841cc599ef61"
      },
      "execution_count": 52,
      "outputs": [
        {
          "output_type": "execute_result",
          "data": {
            "text/plain": [
              "1346269.0"
            ]
          },
          "metadata": {},
          "execution_count": 52
        }
      ]
    },
    {
      "cell_type": "code",
      "source": [
        "#alternativa c\n",
        "i = 32\n",
        "X = ((1+np.sqrt(5))/2)**i\n",
        "Y = ((1-np.sqrt(5))/2)**i\n",
        "Fi3 = np.floor((X-Y)/np.sqrt(5))\n",
        "Fi3"
      ],
      "metadata": {
        "colab": {
          "base_uri": "https://localhost:8080/"
        },
        "id": "pUknZIns6nmF",
        "outputId": "8cd9cea4-1dd5-4de1-d889-bd182d7d76cf"
      },
      "execution_count": 51,
      "outputs": [
        {
          "output_type": "execute_result",
          "data": {
            "text/plain": [
              "2178309.0"
            ]
          },
          "metadata": {},
          "execution_count": 51
        }
      ]
    }
  ]
}