{
  "nbformat": 4,
  "nbformat_minor": 0,
  "metadata": {
    "colab": {
      "provenance": []
    },
    "kernelspec": {
      "name": "python3",
      "display_name": "Python 3"
    },
    "language_info": {
      "name": "python"
    }
  },
  "cells": [
    {
      "cell_type": "markdown",
      "source": [
        "Felipe Rodrigues Ribeiro\n"
      ],
      "metadata": {
        "id": "Ek7ia3DErY15"
      }
    },
    {
      "cell_type": "markdown",
      "source": [
        "alternativa A)"
      ],
      "metadata": {
        "id": "SJvBxTuBrd65"
      }
    },
    {
      "cell_type": "code",
      "execution_count": 23,
      "metadata": {
        "colab": {
          "base_uri": "https://localhost:8080/"
        },
        "id": "nzEnmW0uk6Lr",
        "outputId": "834def03-957d-4888-c8e8-7e4ce1fd21aa"
      },
      "outputs": [
        {
          "output_type": "execute_result",
          "data": {
            "text/plain": [
              "3.1611986129870506"
            ]
          },
          "metadata": {},
          "execution_count": 23
        }
      ],
      "source": [
        "N= 50\n",
        "pi = 0\n",
        "for i in range(0,N+1,1):\n",
        " pi = pi + (-1)**i * 4/(2*i+1)\n",
        "pi\n"
      ]
    },
    {
      "cell_type": "markdown",
      "source": [
        "Alternativa B"
      ],
      "metadata": {
        "id": "t659cT3FrjLY"
      }
    },
    {
      "cell_type": "code",
      "source": [
        "N = 500\n",
        "pi = 0\n",
        "for i in range(0,N+1,1):\n",
        " pi = pi + (-1)**i * 4/(2*i+1)\n",
        "pi"
      ],
      "metadata": {
        "colab": {
          "base_uri": "https://localhost:8080/"
        },
        "id": "rpdvUp-fo1jx",
        "outputId": "1225f52b-3aea-46a1-e0fb-0f977bae5eeb"
      },
      "execution_count": 20,
      "outputs": [
        {
          "output_type": "execute_result",
          "data": {
            "text/plain": [
              "3.143588659585789"
            ]
          },
          "metadata": {},
          "execution_count": 20
        }
      ]
    },
    {
      "cell_type": "markdown",
      "source": [
        "Alternativa C)"
      ],
      "metadata": {
        "id": "ku4halmwrmPQ"
      }
    },
    {
      "cell_type": "code",
      "source": [
        "N= 1000\n",
        "pi = 0\n",
        "for i in range(0,N+1,1):\n",
        " pi = pi + (-1)**i * 4/(2*i+1)\n",
        "pi"
      ],
      "metadata": {
        "colab": {
          "base_uri": "https://localhost:8080/"
        },
        "id": "t83kjFhXrMOC",
        "outputId": "625e4d26-c612-42f7-ac39-7a3090ee25f1"
      },
      "execution_count": 21,
      "outputs": [
        {
          "output_type": "execute_result",
          "data": {
            "text/plain": [
              "3.1425916543395442"
            ]
          },
          "metadata": {},
          "execution_count": 21
        }
      ]
    },
    {
      "cell_type": "markdown",
      "source": [
        "Alternativa D)"
      ],
      "metadata": {
        "id": "SAoTcbUvrpHA"
      }
    },
    {
      "cell_type": "code",
      "source": [
        "N= 10000\n",
        "pi = 0\n",
        "for i in range(0,N+1,1):\n",
        " pi = pi + (-1)**i * 4/(2*i+1)\n",
        "pi"
      ],
      "metadata": {
        "colab": {
          "base_uri": "https://localhost:8080/"
        },
        "id": "8dQu8yk7rSmJ",
        "outputId": "1566d182-9f19-4caf-c2f1-d79cd0245db8"
      },
      "execution_count": 22,
      "outputs": [
        {
          "output_type": "execute_result",
          "data": {
            "text/plain": [
              "3.1416926435905346"
            ]
          },
          "metadata": {},
          "execution_count": 22
        }
      ]
    }
  ]
}