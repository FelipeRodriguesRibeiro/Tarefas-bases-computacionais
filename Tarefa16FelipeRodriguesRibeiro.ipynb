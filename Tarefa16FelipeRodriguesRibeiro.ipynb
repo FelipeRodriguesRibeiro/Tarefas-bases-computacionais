{
  "nbformat": 4,
  "nbformat_minor": 0,
  "metadata": {
    "colab": {
      "provenance": []
    },
    "kernelspec": {
      "name": "python3",
      "display_name": "Python 3"
    },
    "language_info": {
      "name": "python"
    }
  },
  "cells": [
    {
      "cell_type": "code",
      "source": [
        "import numpy as np\n",
        "import matplotlib.pyplot as plt\n",
        "import pandas as pd"
      ],
      "metadata": {
        "id": "1Kf1j5fk8iDq"
      },
      "execution_count": 1,
      "outputs": []
    },
    {
      "cell_type": "markdown",
      "source": [
        "Questão 01"
      ],
      "metadata": {
        "id": "TGmgMZiqBr-a"
      }
    },
    {
      "cell_type": "code",
      "execution_count": 6,
      "metadata": {
        "id": "b3GMqp_s8DVF"
      },
      "outputs": [],
      "source": [
        "def Função(t,A,b,c):\n",
        " x= A*np.sqrt(1+b*(t**2))+c\n",
        " plt.figure()\n",
        " plt.plot(x,t, marker = 'o')\n",
        " plt.xlabel('x')\n",
        " plt.ylabel('t')\n",
        " plt.title('gráfico de x em função de t')\n",
        " plt.show()\n",
        " return x\n"
      ]
    },
    {
      "cell_type": "markdown",
      "source": [
        "Alternativa A)"
      ],
      "metadata": {
        "id": "kEmsfXHXEWgk"
      }
    },
    {
      "cell_type": "code",
      "source": [
        "Função(t=np.linspace(0,10,1000),A=2,b=0.5,c=0)"
      ],
      "metadata": {
        "colab": {
          "base_uri": "https://localhost:8080/",
          "height": 1000
        },
        "id": "99Psv6Nd-qam",
        "outputId": "1b0e42b6-ae85-42b9-85ed-9dced2b6df45"
      },
      "execution_count": 7,
      "outputs": [
        {
          "output_type": "display_data",
          "data": {
            "text/plain": [
              "<Figure size 432x288 with 1 Axes>"
            ],
            "image/png": "[encoded data removed]"
          },
          "metadata": {
            "needs_background": "light"
          }
        },
        {
          "output_type": "execute_result",
          "data": {
            "text/plain": [
              "array([ 2.        ,  2.0000501 ,  2.00020039,  2.00045085,  2.00080144,\n",
              "        2.00125211,  2.00180279,  2.0024534 ,  2.00320384,  2.004054  ,\n",
              "        2.00500376,  2.00605296,  2.00720146,  2.00844908,  2.00979564,\n",
              "        2.01124094,  2.01278478,  2.01442691,  2.0161671 ,  2.01800511,\n",
              "        2.01994065,  2.02197346,  2.02410323,  2.02632967,  2.02865245,\n",
              "        2.03107124,  2.0335857 ,  2.03619548,  2.03890021,  2.04169951,\n",
              "        2.044593  ,  2.04758027,  2.05066092,  2.05383452,  2.05710065,\n",
              "        2.06045887,  2.06390871,  2.06744974,  2.07108147,  2.07480344,\n",
              "        2.07861515,  2.08251612,  2.08650585,  2.09058382,  2.09474952,\n",
              "        2.09900243,  2.10334202,  2.10776776,  2.1122791 ,  2.11687549,\n",
              "        2.12155639,  2.12632123,  2.13116945,  2.13610049,  2.14111376,\n",
              "        2.14620871,  2.15138474,  2.15664127,  2.16197771,  2.16739348,\n",
              "        2.17288798,  2.17846061,  2.18411078,  2.18983789,  2.19564133,\n",
              "        2.20152051,  2.20747481,  2.21350362,  2.21960636,  2.22578239,\n",
              "        2.23203113,  2.23835194,  2.24474424,  2.25120741,  2.25774084,\n",
              "        2.26434392,  2.27101604,  2.27775661,  2.284565  ,  2.29144063,\n",
              "        2.29838288,  2.30539115,  2.31246484,  2.31960336,  2.3268061 ,\n",
              "        2.33407248,  2.3414019 ,  2.34879376,  2.35624749,  2.3637625 ,\n",
              "        2.3713382 ,  2.37897402,  2.38666937,  2.39442369,  2.4022364 ,\n",
              "        2.41010693,  2.41803473,  2.42601922,  2.43405985,  2.44215607,\n",
              "        2.45030733,  2.45851307,  2.46677276,  2.47508585,  2.48345181,\n",
              "        2.49187011,  2.50034021,  2.50886159,  2.51743373,  2.52605612,\n",
              "        2.53472824,  2.54344959,  2.55221965,  2.56103793,  2.56990393,\n",
              "        2.57881716,  2.58777713,  2.59678336,  2.60583537,  2.61493268,\n",
              "        2.62407482,  2.63326132,  2.64249173,  2.65176558,  2.66108242,\n",
              "        2.6704418 ,  2.67984327,  2.68928639,  2.69877073,  2.70829585,\n",
              "        2.71786132,  2.72746672,  2.73711163,  2.74679563,  2.75651831,\n",
              "        2.76627926,  2.77607808,  2.78591437,  2.79578773,  2.80569778,\n",
              "        2.81564411,  2.82562636,  2.83564414,  2.84569708,  2.85578481,\n",
              "        2.86590695,  2.87606314,  2.88625304,  2.89647627,  2.90673248,\n",
              "        2.91702134,  2.9273425 ,  2.93769561,  2.94808034,  2.95849635,\n",
              "        2.96894332,  2.97942092,  2.98992883,  3.00046673,  3.01103431,\n",
              "        3.02163124,  3.03225724,  3.04291199,  3.05359519,  3.06430654,\n",
              "        3.07504575,  3.08581253,  3.09660659,  3.10742764,  3.11827541,\n",
              "        3.12914962,  3.14004999,  3.15097626,  3.16192814,  3.17290539,\n",
              "        3.18390772,  3.1949349 ,  3.20598665,  3.21706273,  3.22816289,\n",
              "        3.23928688,  3.25043445,  3.26160536,  3.27279937,  3.28401625,\n",
              "        3.29525577,  3.30651768,  3.31780177,  3.32910781,  3.34043558,\n",
              "        3.35178485,  3.36315541,  3.37454704,  3.38595954,  3.39739268,\n",
              "        3.40884626,  3.42032008,  3.43181394,  3.44332763,  3.45486095,\n",
              "        3.46641371,  3.47798572,  3.48957678,  3.50118671,  3.51281531,\n",
              "        3.52446241,  3.53612781,  3.54781135,  3.55951283,  3.57123209,\n",
              "        3.58296895,  3.59472324,  3.60649478,  3.61828341,  3.63008897,\n",
              "        3.64191128,  3.65375019,  3.66560553,  3.67747715,  3.68936488,\n",
              "        3.70126858,  3.71318808,  3.72512325,  3.73707392,  3.74903995,\n",
              "        3.76102119,  3.7730175 ,  3.78502874,  3.79705476,  3.80909542,\n",
              "        3.82115058,  3.83322012,  3.84530388,  3.85740174,  3.86951357,\n",
              "        3.88163924,  3.89377861,  3.90593156,  3.91809796,  3.93027769,\n",
              "        3.94247062,  3.95467664,  3.96689561,  3.97912743,  3.99137197,\n",
              "        4.00362911,  4.01589875,  4.02818076,  4.04047504,  4.05278147,\n",
              "        4.06509994,  4.07743035,  4.08977258,  4.10212653,  4.11449209,\n",
              "        4.12686916,  4.13925764,  4.15165741,  4.16406839,  4.17649048,\n",
              "        4.18892356,  4.20136755,  4.21382236,  4.22628787,  4.238764  ,\n",
              "        4.25125066,  4.26374775,  4.27625519,  4.28877287,  4.30130072,\n",
              "        4.31383864,  4.32638654,  4.33894435,  4.35151196,  4.36408931,\n",
              "        4.3766763 ,  4.38927285,  4.40187888,  4.41449431,  4.42711906,\n",
              "        4.43975305,  4.45239619,  4.46504842,  4.47770965,  4.49037981,\n",
              "        4.50305883,  4.51574662,  4.52844312,  4.54114825,  4.55386194,\n",
              "        4.56658412,  4.57931472,  4.59205366,  4.60480088,  4.61755632,\n",
              "        4.63031989,  4.64309154,  4.6558712 ,  4.6686588 ,  4.68145427,\n",
              "        4.69425756,  4.7070686 ,  4.71988733,  4.73271368,  4.74554759,\n",
              "        4.758389  ,  4.77123785,  4.78409409,  4.79695764,  4.80982845,\n",
              "        4.82270647,  4.83559164,  4.8484839 ,  4.86138318,  4.87428945,\n",
              "        4.88720264,  4.90012269,  4.91304956,  4.92598319,  4.93892352,\n",
              "        4.95187051,  4.9648241 ,  4.97778424,  4.99075087,  5.00372396,\n",
              "        5.01670345,  5.02968928,  5.04268141,  5.0556798 ,  5.06868439,\n",
              "        5.08169513,  5.09471199,  5.1077349 ,  5.12076383,  5.13379873,\n",
              "        5.14683956,  5.15988626,  5.1729388 ,  5.18599713,  5.19906121,\n",
              "        5.21213099,  5.22520643,  5.23828749,  5.25137413,  5.26446631,\n",
              "        5.27756398,  5.2906671 ,  5.30377563,  5.31688954,  5.33000878,\n",
              "        5.34313331,  5.3562631 ,  5.36939811,  5.38253829,  5.39568362,\n",
              "        5.40883404,  5.42198954,  5.43515006,  5.44831557,  5.46148605,\n",
              "        5.47466144,  5.48784172,  5.50102684,  5.51421679,  5.52741151,\n",
              "        5.54061098,  5.55381516,  5.56702403,  5.58023754,  5.59345566,\n",
              "        5.60667836,  5.61990561,  5.63313738,  5.64637363,  5.65961434,\n",
              "        5.67285946,  5.68610898,  5.69936286,  5.71262107,  5.72588357,\n",
              "        5.73915035,  5.75242137,  5.7656966 ,  5.77897601,  5.79225958,\n",
              "        5.80554727,  5.81883905,  5.83213491,  5.8454348 ,  5.85873871,\n",
              "        5.87204661,  5.88535846,  5.89867425,  5.91199394,  5.92531752,\n",
              "        5.93864494,  5.95197619,  5.96531125,  5.97865008,  5.99199266,\n",
              "        6.00533897,  6.01868898,  6.03204266,  6.0454    ,  6.05876097,\n",
              "        6.07212554,  6.08549369,  6.0988654 ,  6.11224064,  6.12561939,\n",
              "        6.13900163,  6.15238733,  6.16577648,  6.17916904,  6.19256501,\n",
              "        6.20596435,  6.21936704,  6.23277306,  6.2461824 ,  6.25959503,\n",
              "        6.27301092,  6.28643006,  6.29985243,  6.313278  ,  6.32670676,\n",
              "        6.34013868,  6.35357375,  6.36701195,  6.38045325,  6.39389764,\n",
              "        6.40734509,  6.42079559,  6.43424912,  6.44770566,  6.46116519,\n",
              "        6.47462769,  6.48809314,  6.50156153,  6.51503284,  6.52850704,\n",
              "        6.54198413,  6.55546408,  6.56894687,  6.58243249,  6.59592092,\n",
              "        6.60941215,  6.62290615,  6.63640291,  6.64990242,  6.66340465,\n",
              "        6.67690959,  6.69041722,  6.70392753,  6.7174405 ,  6.73095612,\n",
              "        6.74447436,  6.75799522,  6.77151867,  6.7850447 ,  6.7985733 ,\n",
              "        6.81210446,  6.82563814,  6.83917435,  6.85271307,  6.86625427,\n",
              "        6.87979796,  6.8933441 ,  6.90689269,  6.92044371,  6.93399716,\n",
              "        6.947553  ,  6.96111124,  6.97467185,  6.98823483,  7.00180015,\n",
              "        7.01536781,  7.0289378 ,  7.04251009,  7.05608467,  7.06966154,\n",
              "        7.08324067,  7.09682206,  7.1104057 ,  7.12399156,  7.13757964,\n",
              "        7.15116993,  7.1647624 ,  7.17835706,  7.19195388,  7.20555286,\n",
              "        7.21915398,  7.23275724,  7.24636261,  7.25997008,  7.27357966,\n",
              "        7.28719131,  7.30080504,  7.31442082,  7.32803866,  7.34165853,\n",
              "        7.35528043,  7.36890434,  7.38253026,  7.39615817,  7.40978805,\n",
              "        7.42341991,  7.43705373,  7.4506895 ,  7.46432721,  7.47796684,\n",
              "        7.49160839,  7.50525185,  7.5188972 ,  7.53254444,  7.54619355,\n",
              "        7.55984453,  7.57349737,  7.58715205,  7.60080856,  7.6144669 ,\n",
              "        7.62812706,  7.64178902,  7.65545278,  7.66911833,  7.68278565,\n",
              "        7.69645474,  7.71012559,  7.72379819,  7.73747253,  7.75114859,\n",
              "        7.76482638,  7.77850588,  7.79218709,  7.80586999,  7.81955457,\n",
              "        7.83324083,  7.84692876,  7.86061835,  7.87430959,  7.88800247,\n",
              "        7.90169698,  7.91539312,  7.92909087,  7.94279024,  7.9564912 ,\n",
              "        7.97019375,  7.98389789,  7.9976036 ,  8.01131088,  8.02501972,\n",
              "        8.03873011,  8.05244204,  8.06615551,  8.0798705 ,  8.09358702,\n",
              "        8.10730504,  8.12102457,  8.1347456 ,  8.14846812,  8.16219212,\n",
              "        8.17591759,  8.18964453,  8.20337293,  8.21710278,  8.23083407,\n",
              "        8.2445668 ,  8.25830097,  8.27203655,  8.28577356,  8.29951197,\n",
              "        8.31325178,  8.32699299,  8.34073559,  8.35447957,  8.36822492,\n",
              "        8.38197164,  8.39571973,  8.40946916,  8.42321995,  8.43697208,\n",
              "        8.45072554,  8.46448033,  8.47823644,  8.49199387,  8.5057526 ,\n",
              "        8.51951264,  8.53327397,  8.5470366 ,  8.56080051,  8.57456569,\n",
              "        8.58833215,  8.60209987,  8.61586886,  8.62963909,  8.64341058,\n",
              "        8.6571833 ,  8.67095726,  8.68473245,  8.69850886,  8.71228649,\n",
              "        8.72606534,  8.73984539,  8.75362664,  8.76740908,  8.78119272,\n",
              "        8.79497754,  8.80876354,  8.82255071,  8.83633904,  8.85012854,\n",
              "        8.8639192 ,  8.87771101,  8.89150396,  8.90529805,  8.91909328,\n",
              "        8.93288964,  8.94668712,  8.96048572,  8.97428543,  8.98808626,\n",
              "        9.00188819,  9.01569122,  9.02949534,  9.04330055,  9.05710684,\n",
              "        9.07091421,  9.08472266,  9.09853218,  9.11234276,  9.1261544 ,\n",
              "        9.13996709,  9.15378084,  9.16759563,  9.18141146,  9.19522832,\n",
              "        9.20904622,  9.22286514,  9.23668509,  9.25050605,  9.26432802,\n",
              "        9.27815101,  9.29197499,  9.30579998,  9.31962596,  9.33345293,\n",
              "        9.34728089,  9.36110982,  9.37493974,  9.38877063,  9.40260248,\n",
              "        9.4164353 ,  9.43026909,  9.44410382,  9.45793951,  9.47177615,\n",
              "        9.48561373,  9.49945224,  9.5132917 ,  9.52713208,  9.54097339,\n",
              "        9.55481563,  9.56865878,  9.58250285,  9.59634783,  9.61019372,\n",
              "        9.62404051,  9.6378882 ,  9.65173678,  9.66558626,  9.67943662,\n",
              "        9.69328787,  9.70714   ,  9.720993  ,  9.73484688,  9.74870162,\n",
              "        9.76255723,  9.77641371,  9.79027104,  9.80412922,  9.81798826,\n",
              "        9.83184814,  9.84570886,  9.85957043,  9.87343283,  9.88729607,\n",
              "        9.90116013,  9.91502502,  9.92889073,  9.94275726,  9.95662461,\n",
              "        9.97049277,  9.98436174,  9.99823151, 10.01210208, 10.02597346,\n",
              "       10.03984563, 10.05371859, 10.06759234, 10.08146687, 10.09534219,\n",
              "       10.10921829, 10.12309516, 10.13697281, 10.15085122, 10.1647304 ,\n",
              "       10.17861035, 10.19249105, 10.20637251, 10.22025473, 10.2341377 ,\n",
              "       10.24802141, 10.26190587, 10.27579107, 10.28967701, 10.30356369,\n",
              "       10.3174511 , 10.33133924, 10.3452281 , 10.35911769, 10.373008  ,\n",
              "       10.38689903, 10.40079077, 10.41468323, 10.4285764 , 10.44247027,\n",
              "       10.45636485, 10.47026012, 10.4841561 , 10.49805277, 10.51195014,\n",
              "       10.52584819, 10.53974693, 10.55364636, 10.56754647, 10.58144726,\n",
              "       10.59534872, 10.60925086, 10.62315367, 10.63705715, 10.6509613 ,\n",
              "       10.6648661 , 10.67877157, 10.6926777 , 10.70658448, 10.72049192,\n",
              "       10.7344    , 10.74830874, 10.76221812, 10.77612814, 10.79003881,\n",
              "       10.80395011, 10.81786205, 10.83177462, 10.84568782, 10.85960165,\n",
              "       10.8735161 , 10.88743118, 10.90134688, 10.9152632 , 10.92918014,\n",
              "       10.94309769, 10.95701585, 10.97093462, 10.984854  , 10.99877398,\n",
              "       11.01269457, 11.02661575, 11.04053753, 11.05445991, 11.06838289,\n",
              "       11.08230645, 11.0962306 , 11.11015534, 11.12408066, 11.13800657,\n",
              "       11.15193305, 11.16586012, 11.17978776, 11.19371597, 11.20764476,\n",
              "       11.22157411, 11.23550403, 11.24943452, 11.26336557, 11.27729718,\n",
              "       11.29122935, 11.30516208, 11.31909536, 11.33302919, 11.34696358,\n",
              "       11.36089851, 11.37483399, 11.38877002, 11.40270658, 11.41664369,\n",
              "       11.43058134, 11.44451952, 11.45845824, 11.47239749, 11.48633727,\n",
              "       11.50027758, 11.51421842, 11.52815979, 11.54210167, 11.55604408,\n",
              "       11.56998701, 11.58393045, 11.59787441, 11.61181889, 11.62576387,\n",
              "       11.63970937, 11.65365537, 11.66760188, 11.6815489 , 11.69549642,\n",
              "       11.70944444, 11.72339296, 11.73734197, 11.75129149, 11.76524149,\n",
              "       11.77919199, 11.79314298, 11.80709446, 11.82104642, 11.83499887,\n",
              "       11.84895181, 11.86290522, 11.87685912, 11.89081349, 11.90476834,\n",
              "       11.91872367, 11.93267947, 11.94663574, 11.96059248, 11.97454969,\n",
              "       11.98850737, 12.00246551, 12.01642411, 12.03038318, 12.04434271,\n",
              "       12.0583027 , 12.07226314, 12.08622404, 12.10018539, 12.1141472 ,\n",
              "       12.12810946, 12.14207216, 12.15603532, 12.16999892, 12.18396296,\n",
              "       12.19792745, 12.21189238, 12.22585775, 12.23982356, 12.2537898 ,\n",
              "       12.26775649, 12.2817236 , 12.29569115, 12.30965913, 12.32362754,\n",
              "       12.33759638, 12.35156564, 12.36553533, 12.37950544, 12.39347598,\n",
              "       12.40744694, 12.42141832, 12.43539011, 12.44936232, 12.46333495,\n",
              "       12.47730799, 12.49128145, 12.50525531, 12.51922959, 12.53320427,\n",
              "       12.54717936, 12.56115486, 12.57513076, 12.58910707, 12.60308377,\n",
              "       12.61706088, 12.63103839, 12.64501629, 12.65899459, 12.67297329,\n",
              "       12.68695237, 12.70093186, 12.71491173, 12.72889199, 12.74287264,\n",
              "       12.75685368, 12.77083511, 12.78481692, 12.79879911, 12.81278169,\n",
              "       12.82676464, 12.84074798, 12.8547317 , 12.86871579, 12.88270026,\n",
              "       12.8966851 , 12.91067032, 12.92465591, 12.93864187, 12.9526282 ,\n",
              "       12.9666149 , 12.98060197, 12.99458941, 13.00857721, 13.02256537,\n",
              "       13.0365539 , 13.05054279, 13.06453204, 13.07852164, 13.09251161,\n",
              "       13.10650194, 13.12049262, 13.13448365, 13.14847504, 13.16246678,\n",
              "       13.17645888, 13.19045132, 13.20444411, 13.21843725, 13.23243074,\n",
              "       13.24642458, 13.26041876, 13.27441328, 13.28840814, 13.30240335,\n",
              "       13.3163989 , 13.33039479, 13.34439101, 13.35838757, 13.37238447,\n",
              "       13.38638171, 13.40037928, 13.41437718, 13.42837541, 13.44237398,\n",
              "       13.45637287, 13.4703721 , 13.48437165, 13.49837153, 13.51237173,\n",
              "       13.52637226, 13.54037311, 13.55437429, 13.56837579, 13.58237761,\n",
              "       13.59637975, 13.6103822 , 13.62438498, 13.63838807, 13.65239148,\n",
              "       13.66639521, 13.68039924, 13.6944036 , 13.70840826, 13.72241323,\n",
              "       13.73641852, 13.75042411, 13.76443001, 13.77843622, 13.79244274,\n",
              "       13.80644956, 13.82045669, 13.83446412, 13.84847185, 13.86247988,\n",
              "       13.87648822, 13.89049685, 13.90450579, 13.91851502, 13.93252455,\n",
              "       13.94653438, 13.9605445 , 13.97455492, 13.98856563, 14.00257663,\n",
              "       14.01658792, 14.03059951, 14.04461139, 14.05862355, 14.072636  ,\n",
              "       14.08664875, 14.10066178, 14.11467509, 14.12868869, 14.14270257,\n",
              "       14.15671674, 14.17073119, 14.18474592, 14.19876093, 14.21277622,\n",
              "       14.2267918 , 14.24080765, 14.25482377, 14.26884018, 14.28285686])"
            ]
          },
          "metadata": {},
          "execution_count": 7
        }
      ]
    },
    {
      "cell_type": "markdown",
      "source": [
        "Alternativa b)"
      ],
      "metadata": {
        "id": "7TdWwz9KEd0d"
      }
    },
    {
      "cell_type": "code",
      "source": [
        "Função(t=np.arange(0,15,0.2),A=10,b=0.2,c=1)"
      ],
      "metadata": {
        "colab": {
          "base_uri": "https://localhost:8080/",
          "height": 555
        },
        "id": "9pr-_nGs_lti",
        "outputId": "47b4daeb-0bcf-479e-97f2-238c196da257"
      },
      "execution_count": 8,
      "outputs": [
        {
          "output_type": "display_data",
          "data": {
            "text/plain": [
              "<Figure size 432x288 with 1 Axes>"
            ],
            "image/png": "[encoded data removed]"
          },
          "metadata": {
            "needs_background": "light"
          }
        },
        {
          "output_type": "execute_result",
          "data": {
            "text/plain": [
              "array([11.        , 11.03992032, 11.15874008, 11.35374328, 11.62073444,\n",
              "       11.95445115, 12.34900877, 12.79830496, 13.29634092, 13.83744523,\n",
              "       14.41640786, 15.02854233, 15.66969666, 16.33623161, 17.0249805 ,\n",
              "       17.73320053, 18.45852227, 19.19890107, 19.95257238, 20.71801207,\n",
              "       21.49390153, 22.27909773, 23.07260746, 23.87356553, 24.68121618,\n",
              "       25.49489743, 26.31402773, 27.1380948 , 27.96664607, 28.79928057,\n",
              "       29.63564213, 30.47541348, 31.3183113 , 32.16408189, 33.01249756,\n",
              "       33.86335345, 34.71646482, 35.5716647 , 36.42880184, 37.28773898,\n",
              "       38.14835124, 39.01052486, 39.87415594, 40.73914946, 41.60541836,\n",
              "       42.47288271, 43.34146903, 44.21110968, 45.08174225, 45.95330911,\n",
              "       46.82575695, 47.69903639, 48.57310164, 49.44791017, 50.32342243,\n",
              "       51.19960159, 52.07641334, 52.95382565, 53.8318086 , 54.7103342 ,\n",
              "       55.58937626, 56.46891021, 57.34891303, 58.22936309, 59.11024006,\n",
              "       59.99152482, 60.87319935, 61.75524669, 62.63765083, 63.52039667,\n",
              "       64.40346994, 65.28685713, 66.17054549, 67.05452293, 67.938778  ])"
            ]
          },
          "metadata": {},
          "execution_count": 8
        }
      ]
    },
    {
      "cell_type": "markdown",
      "source": [
        "Alternativa c)"
      ],
      "metadata": {
        "id": "rWUZIRCIEg3b"
      }
    },
    {
      "cell_type": "code",
      "source": [
        "Função(t=np.linspace(-0.5,0.5,500),A=-3,b=-1.5,c=-10)"
      ],
      "metadata": {
        "colab": {
          "base_uri": "https://localhost:8080/",
          "height": 1000
        },
        "id": "6P3tu06dA1EP",
        "outputId": "bcc5f968-9b39-4687-fd9e-91a41112b2fe"
      },
      "execution_count": 9,
      "outputs": [
        {
          "output_type": "display_data",
          "data": {
            "text/plain": [
              "<Figure size 432x288 with 1 Axes>"
            ],
            "image/png": "[encoded data removed]"
          },
          "metadata": {
            "needs_background": "light"
          }
        },
        {
          "output_type": "execute_result",
          "data": {
            "text/plain": [
              "array([-12.37170825, -12.37739351, -12.38304246, -12.38865535,\n",
              "       -12.39423244, -12.39977397, -12.4052802 , -12.41075136,\n",
              "       -12.4161877 , -12.42158944, -12.42695682, -12.43229007,\n",
              "       -12.4375894 , -12.44285505, -12.44808722, -12.45328614,\n",
              "       -12.45845201, -12.46358504, -12.46868543, -12.47375339,\n",
              "       -12.47878912, -12.48379281, -12.48876466, -12.49370485,\n",
              "       -12.49861358, -12.50349102, -12.50833737, -12.5131528 ,\n",
              "       -12.51793748, -12.52269161, -12.52741533, -12.53210884,\n",
              "       -12.53677228, -12.54140584, -12.54600967, -12.55058393,\n",
              "       -12.55512879, -12.55964439, -12.5641309 , -12.56858846,\n",
              "       -12.57301723, -12.57741736, -12.58178899, -12.58613226,\n",
              "       -12.59044732, -12.59473431, -12.59899337, -12.60322464,\n",
              "       -12.60742824, -12.61160432, -12.61575301, -12.61987443,\n",
              "       -12.62396871, -12.62803599, -12.63207638, -12.63609002,\n",
              "       -12.64007702, -12.64403749, -12.64797158, -12.65187938,\n",
              "       -12.65576101, -12.6596166 , -12.66344625, -12.66725007,\n",
              "       -12.67102818, -12.67478068, -12.67850768, -12.6822093 ,\n",
              "       -12.68588562, -12.68953676, -12.69316282, -12.6967639 ,\n",
              "       -12.7003401 , -12.70389152, -12.70741826, -12.71092041,\n",
              "       -12.71439807, -12.71785132, -12.72128028, -12.72468502,\n",
              "       -12.72806563, -12.73142222, -12.73475486, -12.73806364,\n",
              "       -12.74134865, -12.74460997, -12.7478477 , -12.7510619 ,\n",
              "       -12.75425267, -12.75742009, -12.76056423, -12.76368518,\n",
              "       -12.76678301, -12.76985781, -12.77290964, -12.77593858,\n",
              "       -12.77894472, -12.78192812, -12.78488885, -12.78782699,\n",
              "       -12.79074261, -12.79363578, -12.79650657, -12.79935505,\n",
              "       -12.80218129, -12.80498535, -12.8077673 , -12.8105272 ,\n",
              "       -12.81326513, -12.81598114, -12.8186753 , -12.82134767,\n",
              "       -12.82399831, -12.82662729, -12.82923466, -12.83182048,\n",
              "       -12.83438482, -12.83692773, -12.83944927, -12.84194949,\n",
              "       -12.84442845, -12.84688622, -12.84932283, -12.85173835,\n",
              "       -12.85413283, -12.85650632, -12.85885888, -12.86119056,\n",
              "       -12.8635014 , -12.86579146, -12.86806079, -12.87030943,\n",
              "       -12.87253745, -12.87474487, -12.87693176, -12.87909815,\n",
              "       -12.8812441 , -12.88336965, -12.88547484, -12.88755972,\n",
              "       -12.88962434, -12.89166873, -12.89369294, -12.89569702,\n",
              "       -12.89768099, -12.89964491, -12.90158882, -12.90351276,\n",
              "       -12.90541676, -12.90730086, -12.90916511, -12.91100953,\n",
              "       -12.91283418, -12.91463909, -12.91642428, -12.91818981,\n",
              "       -12.9199357 , -12.92166199, -12.92336872, -12.92505591,\n",
              "       -12.92672361, -12.92837184, -12.93000064, -12.93161005,\n",
              "       -12.93320008, -12.93477079, -12.93632218, -12.93785431,\n",
              "       -12.93936719, -12.94086085, -12.94233533, -12.94379066,\n",
              "       -12.94522686, -12.94664396, -12.94804198, -12.94942097,\n",
              "       -12.95078093, -12.9521219 , -12.95344391, -12.95474698,\n",
              "       -12.95603113, -12.95729639, -12.95854278, -12.95977033,\n",
              "       -12.96097906, -12.962169  , -12.96334016, -12.96449257,\n",
              "       -12.96562625, -12.96674123, -12.96783751, -12.96891513,\n",
              "       -12.96997411, -12.97101446, -12.9720362 , -12.97303935,\n",
              "       -12.97402394, -12.97498998, -12.97593748, -12.97686647,\n",
              "       -12.97777697, -12.97866898, -12.97954253, -12.98039763,\n",
              "       -12.9812343 , -12.98205256, -12.98285242, -12.98363389,\n",
              "       -12.98439699, -12.98514173, -12.98586813, -12.9865762 ,\n",
              "       -12.98726595, -12.98793739, -12.98859055, -12.98922542,\n",
              "       -12.98984203, -12.99044038, -12.99102048, -12.99158235,\n",
              "       -12.99212599, -12.99265142, -12.99315864, -12.99364767,\n",
              "       -12.99411851, -12.99457116, -12.99500565, -12.99542198,\n",
              "       -12.99582015, -12.99620017, -12.99656205, -12.9969058 ,\n",
              "       -12.99723141, -12.99753891, -12.99782829, -12.99809956,\n",
              "       -12.99835272, -12.99858778, -12.99880474, -12.9990036 ,\n",
              "       -12.99918438, -12.99934707, -12.99949168, -12.9996182 ,\n",
              "       -12.99972665, -12.99981701, -12.99988931, -12.99994352,\n",
              "       -12.99997967, -12.99999774, -12.99999774, -12.99997967,\n",
              "       -12.99994352, -12.99988931, -12.99981701, -12.99972665,\n",
              "       -12.9996182 , -12.99949168, -12.99934707, -12.99918438,\n",
              "       -12.9990036 , -12.99880474, -12.99858778, -12.99835272,\n",
              "       -12.99809956, -12.99782829, -12.99753891, -12.99723141,\n",
              "       -12.9969058 , -12.99656205, -12.99620017, -12.99582015,\n",
              "       -12.99542198, -12.99500565, -12.99457116, -12.99411851,\n",
              "       -12.99364767, -12.99315864, -12.99265142, -12.99212599,\n",
              "       -12.99158235, -12.99102048, -12.99044038, -12.98984203,\n",
              "       -12.98922542, -12.98859055, -12.98793739, -12.98726595,\n",
              "       -12.9865762 , -12.98586813, -12.98514173, -12.98439699,\n",
              "       -12.98363389, -12.98285242, -12.98205256, -12.9812343 ,\n",
              "       -12.98039763, -12.97954253, -12.97866898, -12.97777697,\n",
              "       -12.97686647, -12.97593748, -12.97498998, -12.97402394,\n",
              "       -12.97303935, -12.9720362 , -12.97101446, -12.96997411,\n",
              "       -12.96891513, -12.96783751, -12.96674123, -12.96562625,\n",
              "       -12.96449257, -12.96334016, -12.962169  , -12.96097906,\n",
              "       -12.95977033, -12.95854278, -12.95729639, -12.95603113,\n",
              "       -12.95474698, -12.95344391, -12.9521219 , -12.95078093,\n",
              "       -12.94942097, -12.94804198, -12.94664396, -12.94522686,\n",
              "       -12.94379066, -12.94233533, -12.94086085, -12.93936719,\n",
              "       -12.93785431, -12.93632218, -12.93477079, -12.93320008,\n",
              "       -12.93161005, -12.93000064, -12.92837184, -12.92672361,\n",
              "       -12.92505591, -12.92336872, -12.92166199, -12.9199357 ,\n",
              "       -12.91818981, -12.91642428, -12.91463909, -12.91283418,\n",
              "       -12.91100953, -12.90916511, -12.90730086, -12.90541676,\n",
              "       -12.90351276, -12.90158882, -12.89964491, -12.89768099,\n",
              "       -12.89569702, -12.89369294, -12.89166873, -12.88962434,\n",
              "       -12.88755972, -12.88547484, -12.88336965, -12.8812441 ,\n",
              "       -12.87909815, -12.87693176, -12.87474487, -12.87253745,\n",
              "       -12.87030943, -12.86806079, -12.86579146, -12.8635014 ,\n",
              "       -12.86119056, -12.85885888, -12.85650632, -12.85413283,\n",
              "       -12.85173835, -12.84932283, -12.84688622, -12.84442845,\n",
              "       -12.84194949, -12.83944927, -12.83692773, -12.83438482,\n",
              "       -12.83182048, -12.82923466, -12.82662729, -12.82399831,\n",
              "       -12.82134767, -12.8186753 , -12.81598114, -12.81326513,\n",
              "       -12.8105272 , -12.8077673 , -12.80498535, -12.80218129,\n",
              "       -12.79935505, -12.79650657, -12.79363578, -12.79074261,\n",
              "       -12.78782699, -12.78488885, -12.78192812, -12.77894472,\n",
              "       -12.77593858, -12.77290964, -12.76985781, -12.76678301,\n",
              "       -12.76368518, -12.76056423, -12.75742009, -12.75425267,\n",
              "       -12.7510619 , -12.7478477 , -12.74460997, -12.74134865,\n",
              "       -12.73806364, -12.73475486, -12.73142222, -12.72806563,\n",
              "       -12.72468502, -12.72128028, -12.71785132, -12.71439807,\n",
              "       -12.71092041, -12.70741826, -12.70389152, -12.7003401 ,\n",
              "       -12.6967639 , -12.69316282, -12.68953676, -12.68588562,\n",
              "       -12.6822093 , -12.67850768, -12.67478068, -12.67102818,\n",
              "       -12.66725007, -12.66344625, -12.6596166 , -12.65576101,\n",
              "       -12.65187938, -12.64797158, -12.64403749, -12.64007702,\n",
              "       -12.63609002, -12.63207638, -12.62803599, -12.62396871,\n",
              "       -12.61987443, -12.61575301, -12.61160432, -12.60742824,\n",
              "       -12.60322464, -12.59899337, -12.59473431, -12.59044732,\n",
              "       -12.58613226, -12.58178899, -12.57741736, -12.57301723,\n",
              "       -12.56858846, -12.5641309 , -12.55964439, -12.55512879,\n",
              "       -12.55058393, -12.54600967, -12.54140584, -12.53677228,\n",
              "       -12.53210884, -12.52741533, -12.52269161, -12.51793748,\n",
              "       -12.5131528 , -12.50833737, -12.50349102, -12.49861358,\n",
              "       -12.49370485, -12.48876466, -12.48379281, -12.47878912,\n",
              "       -12.47375339, -12.46868543, -12.46358504, -12.45845201,\n",
              "       -12.45328614, -12.44808722, -12.44285505, -12.4375894 ,\n",
              "       -12.43229007, -12.42695682, -12.42158944, -12.4161877 ,\n",
              "       -12.41075136, -12.4052802 , -12.39977397, -12.39423244,\n",
              "       -12.38865535, -12.38304246, -12.37739351, -12.37170825])"
            ]
          },
          "metadata": {},
          "execution_count": 9
        }
      ]
    },
    {
      "cell_type": "markdown",
      "source": [
        "Questão 02"
      ],
      "metadata": {
        "id": "Ck7lZ8UUBxLu"
      }
    },
    {
      "cell_type": "code",
      "source": [
        "def Cara_ou_coroa(x):\n",
        " Y = np.random.rand(x)\n",
        " print(Y)\n",
        " if Y < 0.5:\n",
        "  return 'Cara'\n",
        " else:\n",
        "  return 'Coroa'"
      ],
      "metadata": {
        "id": "AV7vvNLhBwzt"
      },
      "execution_count": 10,
      "outputs": []
    },
    {
      "cell_type": "code",
      "source": [
        "Cara_ou_coroa(x=1)"
      ],
      "metadata": {
        "colab": {
          "base_uri": "https://localhost:8080/",
          "height": 53
        },
        "id": "bxu_Ob2sGI5U",
        "outputId": "bb85ba43-9f7d-4c5d-cfe2-25ea608a1fab"
      },
      "execution_count": 138,
      "outputs": [
        {
          "output_type": "stream",
          "name": "stdout",
          "text": [
            "[0.20041484]\n"
          ]
        },
        {
          "output_type": "execute_result",
          "data": {
            "text/plain": [
              "'Cara'"
            ],
            "application/vnd.google.colaboratory.intrinsic+json": {
              "type": "string"
            }
          },
          "metadata": {},
          "execution_count": 138
        }
      ]
    },
    {
      "cell_type": "code",
      "source": [
        "Cara_ou_coroa(x=1)"
      ],
      "metadata": {
        "colab": {
          "base_uri": "https://localhost:8080/",
          "height": 53
        },
        "id": "dKmq-dcxLVhW",
        "outputId": "f1219cbe-69cc-4a10-cd1d-7503442658d8"
      },
      "execution_count": 149,
      "outputs": [
        {
          "output_type": "stream",
          "name": "stdout",
          "text": [
            "[0.86528915]\n"
          ]
        },
        {
          "output_type": "execute_result",
          "data": {
            "text/plain": [
              "'Coroa'"
            ],
            "application/vnd.google.colaboratory.intrinsic+json": {
              "type": "string"
            }
          },
          "metadata": {},
          "execution_count": 149
        }
      ]
    },
    {
      "cell_type": "code",
      "source": [
        "Cara_ou_coroa(x=1)"
      ],
      "metadata": {
        "colab": {
          "base_uri": "https://localhost:8080/",
          "height": 53
        },
        "id": "0hjPqytnOXQM",
        "outputId": "1c536aa7-40db-4606-8178-edb021a97c4d"
      },
      "execution_count": 140,
      "outputs": [
        {
          "output_type": "stream",
          "name": "stdout",
          "text": [
            "[0.4583716]\n"
          ]
        },
        {
          "output_type": "execute_result",
          "data": {
            "text/plain": [
              "'Cara'"
            ],
            "application/vnd.google.colaboratory.intrinsic+json": {
              "type": "string"
            }
          },
          "metadata": {},
          "execution_count": 140
        }
      ]
    },
    {
      "cell_type": "code",
      "source": [
        "Cara_ou_coroa(x=1)"
      ],
      "metadata": {
        "colab": {
          "base_uri": "https://localhost:8080/",
          "height": 53
        },
        "id": "Qn9tiRUfOYbc",
        "outputId": "7285c132-f263-4198-e44d-e10295d0e5bf"
      },
      "execution_count": 141,
      "outputs": [
        {
          "output_type": "stream",
          "name": "stdout",
          "text": [
            "[0.57112984]\n"
          ]
        },
        {
          "output_type": "execute_result",
          "data": {
            "text/plain": [
              "'Coroa'"
            ],
            "application/vnd.google.colaboratory.intrinsic+json": {
              "type": "string"
            }
          },
          "metadata": {},
          "execution_count": 141
        }
      ]
    },
    {
      "cell_type": "code",
      "source": [
        "Cara_ou_coroa(x=1)"
      ],
      "metadata": {
        "colab": {
          "base_uri": "https://localhost:8080/",
          "height": 53
        },
        "id": "cZbtvc8tObix",
        "outputId": "6b893573-4e34-4399-8a75-27f0fb68ed43"
      },
      "execution_count": 142,
      "outputs": [
        {
          "output_type": "stream",
          "name": "stdout",
          "text": [
            "[0.21793957]\n"
          ]
        },
        {
          "output_type": "execute_result",
          "data": {
            "text/plain": [
              "'Cara'"
            ],
            "application/vnd.google.colaboratory.intrinsic+json": {
              "type": "string"
            }
          },
          "metadata": {},
          "execution_count": 142
        }
      ]
    },
    {
      "cell_type": "code",
      "source": [
        "Cara_ou_coroa(x=1)"
      ],
      "metadata": {
        "colab": {
          "base_uri": "https://localhost:8080/",
          "height": 53
        },
        "id": "dKWA_MDmOdhZ",
        "outputId": "53e5556b-7dc1-423c-fec8-270ed8395333"
      },
      "execution_count": 143,
      "outputs": [
        {
          "output_type": "stream",
          "name": "stdout",
          "text": [
            "[0.50266905]\n"
          ]
        },
        {
          "output_type": "execute_result",
          "data": {
            "text/plain": [
              "'Coroa'"
            ],
            "application/vnd.google.colaboratory.intrinsic+json": {
              "type": "string"
            }
          },
          "metadata": {},
          "execution_count": 143
        }
      ]
    },
    {
      "cell_type": "code",
      "source": [
        "Cara_ou_coroa(x=1)"
      ],
      "metadata": {
        "colab": {
          "base_uri": "https://localhost:8080/",
          "height": 53
        },
        "id": "O_WPsNsSNLIT",
        "outputId": "4d761277-b9f0-4f93-d15e-fa055a7810ea"
      },
      "execution_count": 144,
      "outputs": [
        {
          "output_type": "stream",
          "name": "stdout",
          "text": [
            "[0.27296874]\n"
          ]
        },
        {
          "output_type": "execute_result",
          "data": {
            "text/plain": [
              "'Cara'"
            ],
            "application/vnd.google.colaboratory.intrinsic+json": {
              "type": "string"
            }
          },
          "metadata": {},
          "execution_count": 144
        }
      ]
    },
    {
      "cell_type": "code",
      "source": [
        "Cara_ou_coroa(x=1)"
      ],
      "metadata": {
        "colab": {
          "base_uri": "https://localhost:8080/",
          "height": 53
        },
        "id": "uDaZPy9vOgQL",
        "outputId": "443b81c3-2996-4481-fbb5-a1cc834e9e5b"
      },
      "execution_count": 150,
      "outputs": [
        {
          "output_type": "stream",
          "name": "stdout",
          "text": [
            "[0.91125099]\n"
          ]
        },
        {
          "output_type": "execute_result",
          "data": {
            "text/plain": [
              "'Coroa'"
            ],
            "application/vnd.google.colaboratory.intrinsic+json": {
              "type": "string"
            }
          },
          "metadata": {},
          "execution_count": 150
        }
      ]
    },
    {
      "cell_type": "code",
      "source": [
        "Cara_ou_coroa(x=1)"
      ],
      "metadata": {
        "colab": {
          "base_uri": "https://localhost:8080/",
          "height": 53
        },
        "id": "OqQueT_sOhaH",
        "outputId": "3a273953-8ee9-4693-c26d-70fc85cdc7ed"
      },
      "execution_count": 146,
      "outputs": [
        {
          "output_type": "stream",
          "name": "stdout",
          "text": [
            "[0.1733926]\n"
          ]
        },
        {
          "output_type": "execute_result",
          "data": {
            "text/plain": [
              "'Cara'"
            ],
            "application/vnd.google.colaboratory.intrinsic+json": {
              "type": "string"
            }
          },
          "metadata": {},
          "execution_count": 146
        }
      ]
    },
    {
      "cell_type": "code",
      "source": [
        "Cara_ou_coroa(x=1)"
      ],
      "metadata": {
        "colab": {
          "base_uri": "https://localhost:8080/",
          "height": 53
        },
        "id": "inbrjQZzOmnO",
        "outputId": "06af6c6d-1cc3-4a2b-cb44-c55be80a0328"
      },
      "execution_count": 147,
      "outputs": [
        {
          "output_type": "stream",
          "name": "stdout",
          "text": [
            "[0.70174635]\n"
          ]
        },
        {
          "output_type": "execute_result",
          "data": {
            "text/plain": [
              "'Coroa'"
            ],
            "application/vnd.google.colaboratory.intrinsic+json": {
              "type": "string"
            }
          },
          "metadata": {},
          "execution_count": 147
        }
      ]
    },
    {
      "cell_type": "markdown",
      "source": [
        "Questão 03"
      ],
      "metadata": {
        "id": "gCBkK68nQ3G-"
      }
    },
    {
      "cell_type": "code",
      "source": [
        "def Moda(x,y):\n",
        " x = pd.read_csv(x)\n",
        " m = x[y].mode()\n",
        " return m"
      ],
      "metadata": {
        "id": "KcuX_2HnRcbp"
      },
      "execution_count": 219,
      "outputs": []
    },
    {
      "cell_type": "code",
      "source": [
        "Moda(x='https://raw.githubusercontent.com/FelipeRodriguesRibeiro/BasesComputacionais/fc527a25467b4342a66c75266964e5dbc4f8cfb7/aula8/dados/tabelaBrasileirao2018.csv',\n",
        "     y='Estádio')"
      ],
      "metadata": {
        "colab": {
          "base_uri": "https://localhost:8080/"
        },
        "id": "2-N78VUThyCv",
        "outputId": "51460d4b-3989-47d5-e4dd-54cbdc5e72f8"
      },
      "execution_count": 220,
      "outputs": [
        {
          "output_type": "execute_result",
          "data": {
            "text/plain": [
              "0    Estádio Independência, Belo Horizonte\n",
              "dtype: object"
            ]
          },
          "metadata": {},
          "execution_count": 220
        }
      ]
    },
    {
      "cell_type": "markdown",
      "source": [
        "Questão 04"
      ],
      "metadata": {
        "id": "NTCJvEgBU6dk"
      }
    },
    {
      "cell_type": "code",
      "source": [
        "def Eixo(y2,y1,x1,x2,N):\n",
        " m = (y2-y1)/(x2-x1)\n",
        " b = y1-(m*x1)\n",
        " x = np.arange(1,N)\n",
        " y = b*x\n",
        " plt.figure()\n",
        " plt.plot(y,color='red')\n",
        " plt.plot(b,marker='s')\n",
        " plt.show()\n",
        " return m,b"
      ],
      "metadata": {
        "id": "xqHhf9mAU5gN"
      },
      "execution_count": 211,
      "outputs": []
    },
    {
      "cell_type": "code",
      "source": [
        "Eixo(x1= -19,y1=2,x2= 10,y2=-10,N=1000)"
      ],
      "metadata": {
        "colab": {
          "base_uri": "https://localhost:8080/",
          "height": 282
        },
        "id": "QtGqokYvTosO",
        "outputId": "66099988-f606-4473-b50b-e83ea3adb71e"
      },
      "execution_count": 212,
      "outputs": [
        {
          "output_type": "display_data",
          "data": {
            "text/plain": [
              "<Figure size 432x288 with 1 Axes>"
            ],
            "image/png": "[encoded data removed]"
          },
          "metadata": {
            "needs_background": "light"
          }
        },
        {
          "output_type": "execute_result",
          "data": {
            "text/plain": [
              "(-0.41379310344827586, -5.862068965517241)"
            ]
          },
          "metadata": {},
          "execution_count": 212
        }
      ]
    },
    {
      "cell_type": "code",
      "source": [
        "Eixo(x1 = -2, y1 = 8, x2 = 20, y2 = 43, N = 2000)"
      ],
      "metadata": {
        "colab": {
          "base_uri": "https://localhost:8080/",
          "height": 282
        },
        "id": "sc0VQA6jmCeA",
        "outputId": "844b9465-c9e8-4555-dc19-b0bf4c2b9adb"
      },
      "execution_count": 213,
      "outputs": [
        {
          "output_type": "display_data",
          "data": {
            "text/plain": [
              "<Figure size 432x288 with 1 Axes>"
            ],
            "image/png": "[encoded data removed]"
          },
          "metadata": {
            "needs_background": "light"
          }
        },
        {
          "output_type": "execute_result",
          "data": {
            "text/plain": [
              "(1.5909090909090908, 11.181818181818182)"
            ]
          },
          "metadata": {},
          "execution_count": 213
        }
      ]
    },
    {
      "cell_type": "code",
      "source": [
        "Eixo(x1 = 7, y1 = 13, x2 = 1, y2 = 2, N = 500)"
      ],
      "metadata": {
        "colab": {
          "base_uri": "https://localhost:8080/",
          "height": 282
        },
        "id": "guthKJ48n1R4",
        "outputId": "7d7d47c6-3b39-4d87-a5ca-7496049aa391"
      },
      "execution_count": 214,
      "outputs": [
        {
          "output_type": "display_data",
          "data": {
            "text/plain": [
              "<Figure size 432x288 with 1 Axes>"
            ],
            "image/png": "[encoded data removed]"
          },
          "metadata": {
            "needs_background": "light"
          }
        },
        {
          "output_type": "execute_result",
          "data": {
            "text/plain": [
              "(1.8333333333333333, 0.16666666666666785)"
            ]
          },
          "metadata": {},
          "execution_count": 214
        }
      ]
    }
  ]
}