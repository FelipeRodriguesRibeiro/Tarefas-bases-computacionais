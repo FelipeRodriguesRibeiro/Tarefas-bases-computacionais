{
  "nbformat": 4,
  "nbformat_minor": 0,
  "metadata": {
    "colab": {
      "provenance": []
    },
    "kernelspec": {
      "name": "python3",
      "display_name": "Python 3"
    },
    "language_info": {
      "name": "python"
    }
  },
  "cells": [
    {
      "cell_type": "code",
      "execution_count": 2,
      "metadata": {
        "id": "dwGnS0V2B8FG"
      },
      "outputs": [],
      "source": [
        "import numpy as np\n",
        "import matplotlib.pyplot as plt"
      ]
    },
    {
      "cell_type": "markdown",
      "source": [
        "Questão 01"
      ],
      "metadata": {
        "id": "kkx_cs2Zecz-"
      }
    },
    {
      "cell_type": "code",
      "source": [
        "#alternativa a\n",
        "m = 52 #kg\n",
        "h = 1.58 #metros\n",
        "imc = m/h**2\n",
        "if imc < 17:\n",
        "    print('muito abaixo do peso')\n",
        "    print(imc)\n",
        "elif imc >= 17 and imc < 18.5:\n",
        "  print('abaixo do peso')\n",
        "  print(imc)\n",
        "elif imc >= 18.5 and imc < 25:\n",
        "  print('peso normal')\n",
        "  print(imc)\n",
        "elif imc >= 25 and imc < 30:\n",
        "  print('acima do peso')\n",
        "  print(imc)\n",
        "elif imc >= 30 and imc < 35:\n",
        "  print('obesidade grau 1')\n",
        "  print(imc)\n",
        "elif  imc >= 35 and imc <= 40:\n",
        "    print('obesidade grau 2')\n",
        "    print(imc)\n",
        "else:\n",
        "     print('obesidade grau 3')\n",
        "     print(imc)\n",
        "    \n",
        " \n"
      ],
      "metadata": {
        "colab": {
          "base_uri": "https://localhost:8080/"
        },
        "id": "DV81e568I09C",
        "outputId": "93af713a-ea7d-4fc9-adac-fc06d46a8309"
      },
      "execution_count": 93,
      "outputs": [
        {
          "output_type": "stream",
          "name": "stdout",
          "text": [
            "peso normal\n",
            "20.82999519307803\n"
          ]
        }
      ]
    },
    {
      "cell_type": "code",
      "source": [
        "#alternativa b\n",
        "m = 83 #kg\n",
        "h = 1.75 #metros\n",
        "imc = m/h**2\n",
        "if imc < 17:\n",
        "    print('muito abaixo do peso')\n",
        "    print(imc)\n",
        "elif imc >= 17 and imc < 18.5:\n",
        "  print('abaixo do peso')\n",
        "  print(imc)\n",
        "elif imc >= 18.5 and imc < 25:\n",
        "  print('peso normal')\n",
        "  print(imc)\n",
        "elif imc >= 25 and imc < 30:\n",
        "  print('acima do peso')\n",
        "  print(imc)\n",
        "elif imc >= 30 and imc < 35:\n",
        "  print('obesidade grau 1')\n",
        "  print(imc)\n",
        "elif  imc >= 35 and imc <= 40:\n",
        "    print('obesidade grau 2')\n",
        "    print(imc)\n",
        "else:\n",
        "     print('obesidade grau 3')\n",
        "     print(imc)"
      ],
      "metadata": {
        "colab": {
          "base_uri": "https://localhost:8080/"
        },
        "id": "DBoKW-VbLMBa",
        "outputId": "ad66792b-44be-42f9-87fb-e61b10788c8f"
      },
      "execution_count": 94,
      "outputs": [
        {
          "output_type": "stream",
          "name": "stdout",
          "text": [
            "acima do peso\n",
            "27.102040816326532\n"
          ]
        }
      ]
    },
    {
      "cell_type": "code",
      "source": [
        "#alternativa c\n",
        "m = 60 #kg\n",
        "h = 1.80 #metros\n",
        "imc = m/h**2\n",
        "if imc < 17:\n",
        "    print('muito abaixo do peso')\n",
        "    print(imc)\n",
        "elif imc >= 17 and imc < 18.5:\n",
        "  print('abaixo do peso')\n",
        "  print(imc)\n",
        "elif imc >= 18.5 and imc < 25:\n",
        "  print('peso normal')\n",
        "  print(imc)\n",
        "elif imc >= 25 and imc < 30:\n",
        "  print('acima do peso')\n",
        "  print(imc)\n",
        "elif imc >= 30 and imc < 35:\n",
        "  print('obesidade grau 1')\n",
        "  print(imc)\n",
        "elif  imc >= 35 and imc <= 40:\n",
        "    print('obesidade grau 2')\n",
        "    print(imc)\n",
        "else:\n",
        "     print('obesidade grau 3')\n",
        "     print(imc)"
      ],
      "metadata": {
        "colab": {
          "base_uri": "https://localhost:8080/"
        },
        "id": "Lwk-US4yYN7j",
        "outputId": "652a26e3-8d43-4bd1-996e-7a9b64b455c4"
      },
      "execution_count": 95,
      "outputs": [
        {
          "output_type": "stream",
          "name": "stdout",
          "text": [
            "peso normal\n",
            "18.51851851851852\n"
          ]
        }
      ]
    },
    {
      "cell_type": "markdown",
      "source": [
        "Questão 02"
      ],
      "metadata": {
        "id": "tbVj8xlHmV-l"
      }
    },
    {
      "cell_type": "code",
      "source": [
        "#1)\n",
        "x = np.arange(0,9)\n",
        "A = x**3 + 3*x**2 - 54\n",
        "print(A)\n",
        "plt.figure()\n",
        "plt.plot(A,x, marker = 'o')\n",
        "plt.plot(x[A==0], color = 'red', marker= '.')\n",
        "plt.xlabel('concentração de íons')\n",
        "plt.ylabel('acidez da solução')\n",
        "plt.title('gráfico de acidez')\n",
        "plt.show()\n",
        "print('concentração nula', x[A == 0])"
      ],
      "metadata": {
        "colab": {
          "base_uri": "https://localhost:8080/",
          "height": 331
        },
        "id": "jWnP4SPQeARn",
        "outputId": "3847a990-9fe4-42d8-bd7a-697b049a49f6"
      },
      "execution_count": 96,
      "outputs": [
        {
          "output_type": "stream",
          "name": "stdout",
          "text": [
            "[-54 -50 -34   0  58 146 270 436 650]\n"
          ]
        },
        {
          "output_type": "display_data",
          "data": {
            "text/plain": [
              "<Figure size 432x288 with 1 Axes>"
            ],
            "image/png": "[encoded data removed]"
          },
          "metadata": {
            "needs_background": "light"
          }
        },
        {
          "output_type": "stream",
          "name": "stdout",
          "text": [
            "concentração nula [3]\n"
          ]
        }
      ]
    },
    {
      "cell_type": "markdown",
      "source": [
        "Questão 03"
      ],
      "metadata": {
        "id": "YcWww13S2h0D"
      }
    },
    {
      "cell_type": "code",
      "source": [
        "x = np.linspace(-10,10)\n",
        "f = np.absolute(x-2)+np.absolute(2*x + 1) - x -6\n",
        "plt.figure()\n",
        "plt.plot(x,f)\n",
        "plt.xlabel('x')\n",
        "plt.ylabel('f(x)')\n",
        "plt.show()\n",
        "print(f'{np.min(x[(x>0) & (f>0)])} esse é o menor valor de x')\n"
      ],
      "metadata": {
        "colab": {
          "base_uri": "https://localhost:8080/",
          "height": 296
        },
        "id": "U0_yfAgFuhpP",
        "outputId": "79b2e942-752c-4af5-d4fc-5421f0afd73f"
      },
      "execution_count": 97,
      "outputs": [
        {
          "output_type": "display_data",
          "data": {
            "text/plain": [
              "<Figure size 432x288 with 1 Axes>"
            ],
            "image/png": "[encoded data removed]"
          },
          "metadata": {
            "needs_background": "light"
          }
        },
        {
          "output_type": "stream",
          "name": "stdout",
          "text": [
            "3.8775510204081627 esse é o menor valor de x\n"
          ]
        }
      ]
    },
    {
      "cell_type": "markdown",
      "source": [
        "Questão 04"
      ],
      "metadata": {
        "id": "y5xU_dvf2a_2"
      }
    },
    {
      "cell_type": "code",
      "source": [
        "x = np.arange(-10,10)\n",
        "f = x**2-(np.sin(0.784*x**2))-2\n",
        "plt.plot(x,f)\n",
        "print\n",
        "plt.plot(f==0, marker = 'o', linestyle = '--')\n",
        "plt.xlabel('raízes de x')\n",
        "plt.ylabel('f(x)')\n",
        "plt.show()\n"
      ],
      "metadata": {
        "id": "mCTihFvhwk8f",
        "colab": {
          "base_uri": "https://localhost:8080/",
          "height": 279
        },
        "outputId": "0a77b5a7-9731-4975-fc71-34c516a50d56"
      },
      "execution_count": 98,
      "outputs": [
        {
          "output_type": "display_data",
          "data": {
            "text/plain": [
              "<Figure size 432x288 with 1 Axes>"
            ],
            "image/png": "[encoded data removed]"
          },
          "metadata": {
            "needs_background": "light"
          }
        }
      ]
    }
  ]
}