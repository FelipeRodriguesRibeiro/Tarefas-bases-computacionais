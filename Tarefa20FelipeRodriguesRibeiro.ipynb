{
  "nbformat": 4,
  "nbformat_minor": 0,
  "metadata": {
    "colab": {
      "provenance": []
    },
    "kernelspec": {
      "name": "python3",
      "display_name": "Python 3"
    },
    "language_info": {
      "name": "python"
    }
  },
  "cells": [
    {
      "cell_type": "code",
      "execution_count": 2,
      "metadata": {
        "id": "hDGvPiVWumzO"
      },
      "outputs": [],
      "source": [
        "import numpy as np\n",
        "import matplotlib.pyplot as plt"
      ]
    },
    {
      "cell_type": "markdown",
      "source": [
        "Questão 01"
      ],
      "metadata": {
        "id": "rsMGTvLfHtks"
      }
    },
    {
      "cell_type": "code",
      "source": [
        "for i in range(0,999,1):\n",
        " C[0] = 1000\n",
        " t = 0.01\n",
        " a = 0.00011\n",
        " b = 0.00001\n",
        " d = 0.00007\n",
        " g = 0.00000009\n",
        " VC = a*C[i-1]- b*R[i-1]*C[i-1]\n",
        "  C[i] = C[i-1] +t*VC\n",
        "  R[i] = R[i-1] + t*VR\n",
        "VR = g*R[i-1]C[i-1]-d*R[i-1]\n",
        "\n",
        "plt.figure()\n",
        "plt.plot(t,C[i],marker='.',linestyle='--', color= 'Black')\n",
        "plt.plot(t,R[i],marker='square',linestyle='--', color= 'Red')\n",
        "plt.show()\n"
      ],
      "metadata": {
        "id": "sgam6Nxv9zJU"
      },
      "execution_count": null,
      "outputs": []
    },
    {
      "cell_type": "markdown",
      "source": [
        "Questão 02"
      ],
      "metadata": {
        "id": "cvEjO9LUE66l"
      }
    },
    {
      "cell_type": "code",
      "source": [
        "import numpy as np\n",
        "import matplotlib.pyplot as plt\n",
        "x = np.arange(0,1,0.01)\n",
        "plt.figure(figsize=(3,3))\n",
        "plt.plot(x, x**2)\n",
        "plt.fill_between(x, x**2)\n",
        "plt.show()"
      ],
      "metadata": {
        "colab": {
          "base_uri": "https://localhost:8080/",
          "height": 211
        },
        "id": "nCl6hi7-CCqu",
        "outputId": "b55cba30-c293-40c8-e1fb-9fac1f1e06ba"
      },
      "execution_count": 2,
      "outputs": [
        {
          "output_type": "display_data",
          "data": {
            "text/plain": [
              "<Figure size 216x216 with 1 Axes>"
            ],
            "image/png": "[encoded data removed]"
          },
          "metadata": {
            "needs_background": "light"
          }
        }
      ]
    },
    {
      "cell_type": "code",
      "source": [
        "rng = np.random.default_rng()"
      ],
      "metadata": {
        "id": "p6R5ZBxKEOn9"
      },
      "execution_count": 3,
      "outputs": []
    },
    {
      "cell_type": "code",
      "source": [
        "N=10000\n",
        "NC = 0\n",
        "\n",
        "for i in range (10000):\n",
        " x = rng.uniform(size = 1)\n",
        " y =rng.uniform(size = 1)\n",
        " d = np.sqrt((x - 1)**2 + (y-1)**2)\n",
        " if d < 1:\n",
        "  NC = NC + 1\n",
        "\n",
        "pi = 4*(NC/N)\n",
        "\n",
        "print(pi)"
      ],
      "metadata": {
        "colab": {
          "base_uri": "https://localhost:8080/"
        },
        "id": "eJHyq8-6EKMX",
        "outputId": "364162cb-3eaf-4201-810e-08985daa283a"
      },
      "execution_count": 10,
      "outputs": [
        {
          "output_type": "stream",
          "name": "stdout",
          "text": [
            "3.1488\n"
          ]
        }
      ]
    },
    {
      "cell_type": "code",
      "source": [
        "r = 1\n",
        "Aq = 4*(r**2)\n",
        "Aq"
      ],
      "metadata": {
        "colab": {
          "base_uri": "https://localhost:8080/"
        },
        "id": "41zXIfryCDLC",
        "outputId": "c29877a4-4766-45d1-d21e-01ab9aa84504"
      },
      "execution_count": 9,
      "outputs": [
        {
          "output_type": "execute_result",
          "data": {
            "text/plain": [
              "4"
            ]
          },
          "metadata": {},
          "execution_count": 9
        }
      ]
    },
    {
      "cell_type": "code",
      "source": [
        "Ac = pi*(r**2)\n",
        "Ac"
      ],
      "metadata": {
        "colab": {
          "base_uri": "https://localhost:8080/"
        },
        "id": "JAPXQKxoC8JN",
        "outputId": "f1693a4a-e960-482a-bdcd-fafc7cdfa17f"
      },
      "execution_count": 11,
      "outputs": [
        {
          "output_type": "execute_result",
          "data": {
            "text/plain": [
              "3.1488"
            ]
          },
          "metadata": {},
          "execution_count": 11
        }
      ]
    },
    {
      "cell_type": "code",
      "source": [
        "A = (Aq - Ac)/4\n",
        "A"
      ],
      "metadata": {
        "colab": {
          "base_uri": "https://localhost:8080/"
        },
        "id": "lGig_BnWDHSU",
        "outputId": "7fbdeabd-8266-40ce-b635-768e7f6185f7"
      },
      "execution_count": 12,
      "outputs": [
        {
          "output_type": "execute_result",
          "data": {
            "text/plain": [
              "0.2128"
            ]
          },
          "metadata": {},
          "execution_count": 12
        }
      ]
    }
  ]
}