{
  "nbformat": 4,
  "nbformat_minor": 0,
  "metadata": {
    "colab": {
      "provenance": []
    },
    "kernelspec": {
      "name": "python3",
      "display_name": "Python 3"
    },
    "language_info": {
      "name": "python"
    }
  },
  "cells": [
    {
      "cell_type": "code",
      "source": [
        "x = 1\n",
        "if (x%2) == 0:\n",
        "  print(\"esse número é par\")\n",
        "else:\n",
        "  print('esse número é ímpar')"
      ],
      "metadata": {
        "colab": {
          "base_uri": "https://localhost:8080/"
        },
        "id": "MRgSEikUfMXr",
        "outputId": "b4f3ccdf-bd4d-4084-d357-3721a04fbe56"
      },
      "execution_count": 13,
      "outputs": [
        {
          "output_type": "stream",
          "name": "stdout",
          "text": [
            "esse número é ímpar\n"
          ]
        }
      ]
    },
    {
      "cell_type": "code",
      "source": [
        "x = 24\n",
        "if (x%2) == 0:\n",
        "  print(\"esse número é par\")\n",
        "else:\n",
        "  print('esse número é ímpar')\n"
      ],
      "metadata": {
        "colab": {
          "base_uri": "https://localhost:8080/"
        },
        "id": "ubOm2JSyfc1C",
        "outputId": "cba378b5-8d10-456b-a5db-213322a22ef6"
      },
      "execution_count": 10,
      "outputs": [
        {
          "output_type": "stream",
          "name": "stdout",
          "text": [
            "esse número é par\n"
          ]
        }
      ]
    },
    {
      "cell_type": "code",
      "source": [
        "x = 10\n",
        "if (x%2) == 0:\n",
        "  print(\"esse número é par\")\n",
        "else:\n",
        "  print('esse número é ímpar')"
      ],
      "metadata": {
        "colab": {
          "base_uri": "https://localhost:8080/"
        },
        "id": "GK9fWTMChZyq",
        "outputId": "fb0334b4-3f04-43ab-c0c7-6921a0936ff1"
      },
      "execution_count": 11,
      "outputs": [
        {
          "output_type": "stream",
          "name": "stdout",
          "text": [
            "esse número é par\n"
          ]
        }
      ]
    },
    {
      "cell_type": "code",
      "source": [
        "x = 5\n",
        "if (x%2) == 0:\n",
        "  print(\"esse número é par\")\n",
        "else:\n",
        "  print('esse número é ímpar')"
      ],
      "metadata": {
        "colab": {
          "base_uri": "https://localhost:8080/"
        },
        "id": "-IUb7G2-huyq",
        "outputId": "bc7f7a1d-61c6-44cb-9418-5dc0808f2f29"
      },
      "execution_count": 12,
      "outputs": [
        {
          "output_type": "stream",
          "name": "stdout",
          "text": [
            "esse número é ímpar\n"
          ]
        }
      ]
    }
  ]
}